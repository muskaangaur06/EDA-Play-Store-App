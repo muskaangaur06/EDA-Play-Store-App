{
  "nbformat": 4,
  "nbformat_minor": 0,
  "metadata": {
    "colab": {
      "private_outputs": true,
      "provenance": [],
      "collapsed_sections": [
        "vncDsAP0Gaoa",
        "FJNUwmbgGyua",
        "w6K7xa23Elo4",
        "yQaldy8SH6Dl",
        "PH-0ReGfmX4f",
        "mDgbUHAGgjLW",
        "HhfV-JJviCcP",
        "Y3lxredqlCYt",
        "3RnN4peoiCZX",
        "x71ZqKXriCWQ",
        "7hBIi_osiCS2",
        "JlHwYmJAmNHm",
        "35m5QtbWiB9F",
        "PoPl-ycgm1ru",
        "H0kj-8xxnORC",
        "nA9Y7ga8ng1Z",
        "PBTbrJXOngz2",
        "u3PMJOP6ngxN",
        "dauF4eBmngu3",
        "bKJF3rekwFvQ",
        "MSa1f5Uengrz",
        "0wOQAZs5pc--",
        "K5QZ13OEpz2H",
        "lQ7QKXXCp7Bj",
        "448CDAPjqfQr",
        "KSlN3yHqYklG",
        "t6dVpIINYklI",
        "ijmpgYnKYklI",
        "-JiQyfWJYklI",
        "EM7whBJCYoAo",
        "fge-S5ZAYoAp",
        "85gYPyotYoAp",
        "RoGjAbkUYoAp",
        "4Of9eVA-YrdM",
        "iky9q4vBYrdO",
        "F6T5p64dYrdO",
        "y-Ehk30pYrdP",
        "bamQiAODYuh1",
        "QHF8YVU7Yuh3",
        "GwzvFGzlYuh3",
        "qYpmQ266Yuh3",
        "OH-pJp9IphqM",
        "bbFf2-_FphqN",
        "_ouA3fa0phqN",
        "Seke61FWphqN",
        "PIIx-8_IphqN",
        "t27r6nlMphqO",
        "r2jJGEOYphqO",
        "b0JNsNcRphqO",
        "BZR9WyysphqO",
        "jj7wYXLtphqO",
        "eZrbJ2SmphqO",
        "rFu4xreNphqO",
        "YJ55k-q6phqO",
        "gCFgpxoyphqP",
        "OVtJsKN_phqQ",
        "lssrdh5qphqQ",
        "U2RJ9gkRphqQ",
        "1M8mcRywphqQ",
        "tgIPom80phqQ",
        "JMzcOPDDphqR",
        "x-EpHcCOp1ci",
        "X_VqEhTip1ck",
        "8zGJKyg5p1ck",
        "PVzmfK_Ep1ck",
        "n3dbpmDWp1ck",
        "ylSl6qgtp1ck",
        "ZWILFDl5p1ck",
        "M7G43BXep1ck",
        "Ag9LCva-p1cl",
        "E6MkPsBcp1cl",
        "2cELzS2fp1cl",
        "3MPXvC8up1cl",
        "tlUnJLEvm2iU",
        "KtNGGk3xWc9k",
        "3lO53pXCSElb",
        "JcMwzZxoAimU",
        "8G2x9gOozGDZ",
        "gCX9965dhzqZ",
        "gIfDvo9L0UH2"
      ],
      "include_colab_link": true
    },
    "kernelspec": {
      "name": "python3",
      "display_name": "Python 3"
    },
    "language_info": {
      "name": "python"
    }
  },
  "cells": [
    {
      "cell_type": "markdown",
      "metadata": {
        "id": "view-in-github",
        "colab_type": "text"
      },
      "source": [
        "<a href=\"https://colab.research.google.com/github/muskaangaur06/EDA-Play-Store-App/blob/main/EDA_Play_Store_App.ipynb\" target=\"_parent\"><img src=\"https://colab.research.google.com/assets/colab-badge.svg\" alt=\"Open In Colab\"/></a>"
      ]
    },
    {
      "cell_type": "markdown",
      "source": [
        "# **Project Name**    -  **Play Store App Review Analysis**\n",
        "\n",
        "\n"
      ],
      "metadata": {
        "id": "vncDsAP0Gaoa"
      }
    },
    {
      "cell_type": "markdown",
      "source": [
        "##### **Project Type**    - EDA\n",
        "##### **Contribution**    - Individual\n"
      ],
      "metadata": {
        "id": "beRrZCGUAJYm"
      }
    },
    {
      "cell_type": "markdown",
      "source": [
        "# **Introduction & Purpose**"
      ],
      "metadata": {
        "id": "FJNUwmbgGyua"
      }
    },
    {
      "cell_type": "markdown",
      "source": [
        "The Google Play Store is the hub of the Android world — a dynamic platform where millions of apps compete for downloads, attention, and user love 💡📱. But in this crowded space, not every app makes it.\n",
        "\n",
        "So...\n",
        "What separates a top-rated app from the rest?\n",
        "Which features truly drive installs and engagement?\n",
        "\n",
        "🔍 This project takes a deep dive into Play Store app data to answer these questions. We explore patterns in ratings, pricing, categories, sizes, user reviews, and more — all to understand the anatomy of a successful app.\n",
        "\n",
        "🧹 First, we clean the messy data — removing duplicates, handling missing values, and fixing inconsistencies.\n",
        "📊 Then, we use powerful tools like pandas, numpy, matplotlib, and seaborn to analyze and visualize trends.\n",
        "💬 We even look at user reviews to understand the voice of the users and what they really care about.\n",
        "\n",
        "👉 Goal: Turn raw data into real insight — guiding developers to make smarter, user-focused apps.\n",
        "\n",
        "🔘 Let’s decode what makes an app thrive."
      ],
      "metadata": {
        "id": "F6v_1wHtG2nS"
      }
    },
    {
      "cell_type": "code",
      "source": [
        "from google.colab import drive\n",
        "drive.mount('/content/drive')"
      ],
      "metadata": {
        "id": "fTh8rAAx7HQc"
      },
      "execution_count": null,
      "outputs": []
    },
    {
      "cell_type": "markdown",
      "source": [
        "# **GitHub Link -**"
      ],
      "metadata": {
        "id": "w6K7xa23Elo4"
      }
    },
    {
      "cell_type": "markdown",
      "source": [
        "Provide your GitHub Link here."
      ],
      "metadata": {
        "id": "h1o69JH3Eqqn"
      }
    },
    {
      "cell_type": "markdown",
      "source": [
        "# **Problem Statement**\n"
      ],
      "metadata": {
        "id": "yQaldy8SH6Dl"
      }
    },
    {
      "cell_type": "markdown",
      "source": [
        "The Google Play Store ecosystem contains millions of apps, yet only a subset achieves high user engagement and favorable ratings. Developers lack clear, data-driven insights into which app attributes most strongly impact success metrics.\n",
        "\n",
        "Using two datasets — one detailing app metadata (category, rating, size, installs, price, content rating) and another comprising user review texts — this project aims to:\n",
        "\n",
        "🔎 Perform feature analysis to identify key drivers of app ratings and install counts\n",
        "\n",
        "🧠 Apply sentiment analysis on user reviews to quantify feedback and satisfaction levels\n",
        "\n",
        "📈 Explore correlations and patterns between app characteristics and user sentiments\n",
        "\n",
        "🛠️ Provide actionable insights for developers to optimize app design, pricing, and marketing strategies based on data"
      ],
      "metadata": {
        "id": "DpeJGUA3kjGy"
      }
    },
    {
      "cell_type": "markdown",
      "source": [
        "#### **Business Objective**"
      ],
      "metadata": {
        "id": "PH-0ReGfmX4f"
      }
    },
    {
      "cell_type": "markdown",
      "source": [
        "The main goal is to leverage app metadata and user review data to extract actionable insights that help developers:\n",
        "\n",
        "* Optimize app features and pricing strategies to boost ratings and installs\n",
        "\n",
        "* Understand user sentiment trends to improve app quality and engagement\n",
        "\n",
        "* Identify high-potential app categories and content ratings for targeted development\n",
        "\n",
        "* Enable data-driven decisions that increase app visibility and market success on the Google Play Store\n",
        "\n"
      ],
      "metadata": {
        "id": "PhDvGCAqmjP1"
      }
    },
    {
      "cell_type": "markdown",
      "source": [
        "# **General Guidelines** : -  "
      ],
      "metadata": {
        "id": "mDgbUHAGgjLW"
      }
    },
    {
      "cell_type": "markdown",
      "source": [
        "1.   Well-structured, formatted, and commented code is required.\n",
        "2.   Exception Handling, Production Grade Code & Deployment Ready Code will be a plus. Those students will be awarded some additional credits.\n",
        "     \n",
        "     The additional credits will have advantages over other students during Star Student selection.\n",
        "       \n",
        "             [ Note: - Deployment Ready Code is defined as, the whole .ipynb notebook should be executable in one go\n",
        "                       without a single error logged. ]\n",
        "\n",
        "3.   Each and every logic should have proper comments.\n",
        "4. You may add as many number of charts you want. Make Sure for each and every chart the following format should be answered.\n",
        "        \n",
        "\n",
        "```\n",
        "# Chart visualization code\n",
        "```\n",
        "            \n",
        "\n",
        "*   Why did you pick the specific chart?\n",
        "*   What is/are the insight(s) found from the chart?\n",
        "* Will the gained insights help creating a positive business impact?\n",
        "Are there any insights that lead to negative growth? Justify with specific reason.\n",
        "\n",
        "5. You have to create at least 20 logical & meaningful charts having important insights.\n",
        "\n",
        "\n",
        "[ Hints : - Do the Vizualization in  a structured way while following \"UBM\" Rule.\n",
        "\n",
        "U - Univariate Analysis,\n",
        "\n",
        "B - Bivariate Analysis (Numerical - Categorical, Numerical - Numerical, Categorical - Categorical)\n",
        "\n",
        "M - Multivariate Analysis\n",
        " ]\n",
        "\n",
        "\n",
        "\n"
      ],
      "metadata": {
        "id": "ZrxVaUj-hHfC"
      }
    },
    {
      "cell_type": "markdown",
      "source": [
        "# ***Let's Begin !***"
      ],
      "metadata": {
        "id": "O_i_v8NEhb9l"
      }
    },
    {
      "cell_type": "markdown",
      "source": [
        "## ***1. Know Your Data***"
      ],
      "metadata": {
        "id": "HhfV-JJviCcP"
      }
    },
    {
      "cell_type": "markdown",
      "source": [
        "### Import Libraries"
      ],
      "metadata": {
        "id": "Y3lxredqlCYt"
      }
    },
    {
      "cell_type": "code",
      "source": [
        "# Import Libraries\n",
        "import pandas as pd\n",
        "import numpy as np\n",
        "import seaborn as sns\n",
        "import matplotlib.pyplot as plt\n",
        "import matplotlib.ticker as ticker"
      ],
      "metadata": {
        "id": "M8Vqi-pPk-HR"
      },
      "execution_count": null,
      "outputs": []
    },
    {
      "cell_type": "markdown",
      "source": [
        "### Dataset Loading"
      ],
      "metadata": {
        "id": "3RnN4peoiCZX"
      }
    },
    {
      "cell_type": "code",
      "source": [
        "# Load Dataset\n",
        "from google.colab import drive\n",
        "drive.mount('/content/drive')"
      ],
      "metadata": {
        "id": "4CkvbW_SlZ_R"
      },
      "execution_count": null,
      "outputs": []
    },
    {
      "cell_type": "markdown",
      "source": [
        "### Dataset First View"
      ],
      "metadata": {
        "id": "x71ZqKXriCWQ"
      }
    },
    {
      "cell_type": "code",
      "source": [
        "# Dataset First Look\n",
        "play_store_data = pd.read_csv('/content/drive/MyDrive/EDA Play Store App /Play Store Data.csv')\n",
        "play_store_data_head_tail = pd.concat([play_store_data.head(), play_store_data.tail()])\n",
        "play_store_data_head_tail"
      ],
      "metadata": {
        "id": "LWNFOSvLl09H"
      },
      "execution_count": null,
      "outputs": []
    },
    {
      "cell_type": "code",
      "source": [
        "play_store_data.shape"
      ],
      "metadata": {
        "id": "G7kGFGdeZTuw"
      },
      "execution_count": null,
      "outputs": []
    },
    {
      "cell_type": "code",
      "source": [
        "# First look of User Reviews dataset\n",
        "user_reviews_data = pd.read_csv('/content/drive/MyDrive/EDA Play Store App /User Reviews.csv')\n",
        "user_reviews_data_head_tail = pd.concat([user_reviews_data.head(), user_reviews_data.tail()])\n",
        "user_reviews_data_head_tail"
      ],
      "metadata": {
        "id": "J5fEdbETuDof"
      },
      "execution_count": null,
      "outputs": []
    },
    {
      "cell_type": "code",
      "source": [
        "user_reviews_data.shape"
      ],
      "metadata": {
        "id": "L651s_j6ZZWc"
      },
      "execution_count": null,
      "outputs": []
    },
    {
      "cell_type": "markdown",
      "source": [
        "### Dataset Rows & Columns count"
      ],
      "metadata": {
        "id": "7hBIi_osiCS2"
      }
    },
    {
      "cell_type": "code",
      "source": [
        "# Calculating Rows and Columns of both datasets\n",
        "def count_rows_columns(data):\n",
        "    return data.shape\n",
        "\n",
        "rows1, cols1 = count_rows_columns(play_store_data)\n",
        "rows2, cols2 = count_rows_columns(user_reviews_data)\n",
        "\n",
        "print(f'Play Store Data - Rows: {rows1}, Columns: {cols1}')\n",
        "print(f'User Reviews Data - Rows: {rows2}, Columns: {cols2}')"
      ],
      "metadata": {
        "id": "Kllu7SJgmLij"
      },
      "execution_count": null,
      "outputs": []
    },
    {
      "cell_type": "markdown",
      "source": [
        "### Dataset Information"
      ],
      "metadata": {
        "id": "JlHwYmJAmNHm"
      }
    },
    {
      "cell_type": "code",
      "source": [
        "# Dataset Info\n",
        "play_store_data.info()"
      ],
      "metadata": {
        "id": "e9hRXRi6meOf"
      },
      "execution_count": null,
      "outputs": []
    },
    {
      "cell_type": "code",
      "source": [
        "# No. of Categories\n",
        "play_store_data['Category'].nunique()"
      ],
      "metadata": {
        "id": "ncGtVFkW3GqC"
      },
      "execution_count": null,
      "outputs": []
    },
    {
      "cell_type": "code",
      "source": [
        "# No. of Genres\n",
        "play_store_data['Genres'].nunique()"
      ],
      "metadata": {
        "id": "H2ITluuJ3LuQ"
      },
      "execution_count": null,
      "outputs": []
    },
    {
      "cell_type": "code",
      "source": [
        "# Checking unique Genres in Category\n",
        "play_store_data.groupby('Category')['Genres'].nunique()"
      ],
      "metadata": {
        "id": "ASGCZL3A3Qos"
      },
      "execution_count": null,
      "outputs": []
    },
    {
      "cell_type": "markdown",
      "source": [
        "#### Duplicate Values"
      ],
      "metadata": {
        "id": "35m5QtbWiB9F"
      }
    },
    {
      "cell_type": "code",
      "source": [
        "# Play Store Data Duplicate Value Count\n",
        "len(play_store_data[play_store_data.duplicated()])"
      ],
      "metadata": {
        "id": "1sLdpKYkmox0"
      },
      "execution_count": null,
      "outputs": []
    },
    {
      "cell_type": "code",
      "source": [
        "# No. of Duplicate Values in Columns\n",
        "for col in play_store_data.columns:\n",
        "    dup_count = play_store_data[col].duplicated(keep=False).sum()\n",
        "    print(f\"\\n{col}: {dup_count} duplicate values\")"
      ],
      "metadata": {
        "id": "wk3BEW9B5L_w"
      },
      "execution_count": null,
      "outputs": []
    },
    {
      "cell_type": "code",
      "source": [
        "# User Reviews data Duplicate Value Count\n",
        "len(user_reviews_data[user_reviews_data.duplicated()])"
      ],
      "metadata": {
        "id": "7D-hmBo946qE"
      },
      "execution_count": null,
      "outputs": []
    },
    {
      "cell_type": "code",
      "source": [
        "# No. of Duplicate Values in Columns\n",
        "for col in user_reviews_data.columns:\n",
        "    dup_count = user_reviews_data[col].duplicated(keep=False).sum()\n",
        "    print(f\"\\n{col}: {dup_count} duplicate values\")"
      ],
      "metadata": {
        "id": "Ew94uL6EAydK"
      },
      "execution_count": null,
      "outputs": []
    },
    {
      "cell_type": "markdown",
      "source": [
        "#### Missing Values/Null Values"
      ],
      "metadata": {
        "id": "PoPl-ycgm1ru"
      }
    },
    {
      "cell_type": "code",
      "source": [
        "# Missing Values/Null Values Count in Play Store Data\n",
        "print(play_store_data.isnull().sum())"
      ],
      "metadata": {
        "id": "GgHWkxvamxVg"
      },
      "execution_count": null,
      "outputs": []
    },
    {
      "cell_type": "code",
      "source": [
        "# Missing Values/Null Values count in User Reviews Data\n",
        "print(user_reviews_data.isnull().sum())"
      ],
      "metadata": {
        "id": "3nOJCHsTBoyQ"
      },
      "execution_count": null,
      "outputs": []
    },
    {
      "cell_type": "markdown",
      "source": [
        "### What did you know about your dataset?"
      ],
      "metadata": {
        "id": "H0kj-8xxnORC"
      }
    },
    {
      "cell_type": "markdown",
      "source": [
        "* Play Store dataset contains detailed info on each app — like its category, rating, size, number of installs, price, content rating, and more. This helps us understand the app’s features and popularity.\n",
        "\n",
        "* User Reviews dataset holds user reviews, which give a voice to the users — showing their opinions, satisfaction, and issues through text feedback.\n",
        "\n",
        "* Together, these datasets offer a rich mix of quantitative (numbers, ratings) and qualitative (reviews, sentiments) data, perfect for analyzing what makes an app successful and how users really feel about it."
      ],
      "metadata": {
        "id": "gfoNAAC-nUe_"
      }
    },
    {
      "cell_type": "markdown",
      "source": [
        "## ***2. Understanding Your Variables***"
      ],
      "metadata": {
        "id": "nA9Y7ga8ng1Z"
      }
    },
    {
      "cell_type": "code",
      "source": [
        "# Dataset Columns and Rows\n",
        "print(play_store_data.columns)"
      ],
      "metadata": {
        "id": "j7xfkqrt5Ag5"
      },
      "execution_count": null,
      "outputs": []
    },
    {
      "cell_type": "code",
      "source": [
        "print(user_reviews_data.columns)"
      ],
      "metadata": {
        "id": "xKlXyEfxCcit"
      },
      "execution_count": null,
      "outputs": []
    },
    {
      "cell_type": "code",
      "source": [
        "# Dataset Describe\n",
        "play_store_data.describe()"
      ],
      "metadata": {
        "id": "DnOaZdaE5Q5t"
      },
      "execution_count": null,
      "outputs": []
    },
    {
      "cell_type": "code",
      "source": [
        "user_reviews_data.describe()"
      ],
      "metadata": {
        "id": "r5fzI39yCu0J"
      },
      "execution_count": null,
      "outputs": []
    },
    {
      "cell_type": "markdown",
      "source": [
        "### Variables Description"
      ],
      "metadata": {
        "id": "PBTbrJXOngz2"
      }
    },
    {
      "cell_type": "markdown",
      "source": [
        "####**Play Store App Dataset Columns:**"
      ],
      "metadata": {
        "id": "59nnVGDNdFXM"
      }
    },
    {
      "cell_type": "markdown",
      "source": [
        "* App: Name of the app\n",
        "\n",
        "* Category: App genre/type (e.g., Games, Education)\n",
        "\n",
        "* Rating: Average user rating (numeric)\n",
        "\n",
        "* Reviews: Number of user reviews (count)\n",
        "\n",
        "* Size: App size (MB or KB)\n",
        "\n",
        "* Installs: Number of times the app was installed\n",
        "\n",
        "* Type: Free or Paid app\n",
        "\n",
        "* Price: Cost (if paid)\n",
        "\n",
        "* Content Rating: Age suitability (e.g., Everyone, Teen)\n",
        "\n",
        "* Genres: More detailed app category info\n",
        "\n",
        "* Last Updated: Date of last app update\n",
        "\n",
        "* Current Ver: Current app version\n",
        "\n",
        "* Android Ver: Minimum Android version required"
      ],
      "metadata": {
        "id": "aJV4KIxSnxay"
      }
    },
    {
      "cell_type": "markdown",
      "source": [
        "#### **User Reviews Dataset:**"
      ],
      "metadata": {
        "id": "dUASpWM_dXri"
      }
    },
    {
      "cell_type": "markdown",
      "source": [
        "* App: App name (to link reviews)\n",
        "\n",
        "* Translated_Review: User review text (translated if needed)\n",
        "\n",
        "* Sentiment: Review sentiment category (e.g., Positive, Negative, Neutral)\n",
        "\n",
        "* Sentiment_Polarity: Numeric score showing positivity/negativity of review\n",
        "\n",
        "* Sentiment_Subjectivity: Numeric score indicating if review is opinionated (subjective) or factual (objective)"
      ],
      "metadata": {
        "id": "Gok4Y-zfdlqY"
      }
    },
    {
      "cell_type": "markdown",
      "source": [
        "### Check Unique Values for each variable."
      ],
      "metadata": {
        "id": "u3PMJOP6ngxN"
      }
    },
    {
      "cell_type": "code",
      "source": [
        "# Check Unique Values for each variable.\n",
        "for column in play_store_data.columns:\n",
        "  print(f\"No. of unique values in {column} is {play_store_data[column].nunique()}.\")"
      ],
      "metadata": {
        "id": "zms12Yq5n-jE"
      },
      "execution_count": null,
      "outputs": []
    },
    {
      "cell_type": "code",
      "source": [
        "for column in user_reviews_data:\n",
        "  print(f\"No. of unique values in {column} is {user_reviews_data[column].nunique()}\")"
      ],
      "metadata": {
        "id": "juLBa3VaDT69"
      },
      "execution_count": null,
      "outputs": []
    },
    {
      "cell_type": "markdown",
      "source": [
        "## 3. ***Data Wrangling***"
      ],
      "metadata": {
        "id": "dauF4eBmngu3"
      }
    },
    {
      "cell_type": "markdown",
      "source": [
        "### **Data Cleaning**"
      ],
      "metadata": {
        "id": "bKJF3rekwFvQ"
      }
    },
    {
      "cell_type": "markdown",
      "source": [
        "### **Handling the NaN values in the dataset**"
      ],
      "metadata": {
        "id": "nTyhLeeahWl4"
      }
    },
    {
      "cell_type": "markdown",
      "source": [
        "#### For User Reviews dataset"
      ],
      "metadata": {
        "id": "Mkq7Al0aLsDL"
      }
    },
    {
      "cell_type": "code",
      "source": [
        "# This table will give the required info of the data like Datatype, no. of not null values and null values, null % and no. of unique values in each column\n",
        "table = pd.DataFrame(index = user_reviews_data.columns)\n",
        "table[\"Datatype\"] = user_reviews_data.dtypes\n",
        "table[\"Not Null\"] = user_reviews_data.count()\n",
        "table[\"Null\"] = user_reviews_data.isnull().sum()\n",
        "table[\"Null %\"] = (user_reviews_data.isnull().sum()/len(user_reviews_data))*100\n",
        "table[\"Unique Values\"] = user_reviews_data.nunique()\n",
        "table"
      ],
      "metadata": {
        "id": "qC8ZiLvRGNwM"
      },
      "execution_count": null,
      "outputs": []
    },
    {
      "cell_type": "markdown",
      "source": [
        "**Findings**:\n",
        "* Significant missing data (~42%) in all sentiment-related columns\n",
        "\n",
        "* App column is clean and can be used as a reliable key\n",
        "\n",
        "* High uniqueness in Translated_Review implies mostly unique user reviews"
      ],
      "metadata": {
        "id": "tb9NY7qaHrIS"
      }
    },
    {
      "cell_type": "markdown",
      "source": [
        "The missing values in the Translated_Review, Sentiment, Sentiment_Polarity, and Sentiment_Subjectivity columns exist because many users did not provide any review. Since these columns are interrelated—where sentiment analysis can only be performed if a review is present—the absence of one logically leads to the absence of the others. Therefore, these null entries do not contribute any meaningful data for analysis. Dropping these rows, despite them being about 42% of the dataset, is a valid step as it ensures the dataset remains clean and focused on actual user feedback, without introducing any bias or data manipulation."
      ],
      "metadata": {
        "id": "2u6cMLqgJ61l"
      }
    },
    {
      "cell_type": "code",
      "source": [
        "# These columns are interdependent, so missing one usually means all are missing\n",
        "user_reviews_data.dropna(subset=['Translated_Review', 'Sentiment', 'Sentiment_Polarity', 'Sentiment_Subjectivity'], inplace=True)\n",
        "user_reviews_data.isnull().sum()"
      ],
      "metadata": {
        "id": "1Sm89sknJ_Rp"
      },
      "execution_count": null,
      "outputs": []
    },
    {
      "cell_type": "markdown",
      "source": [
        "#### For Play Store dataset"
      ],
      "metadata": {
        "id": "ALLsOea9L05K"
      }
    },
    {
      "cell_type": "code",
      "source": [
        "# This table will give the required info of the data like Datatype, no. of not null values and null values, null % and no. of unique values in each column\n",
        "table = pd.DataFrame(index = play_store_data.columns)\n",
        "table[\"Datatype\"] = play_store_data.dtypes\n",
        "table[\"Not Null\"] = play_store_data.count()\n",
        "table[\"Null\"] = play_store_data.isnull().sum()\n",
        "table[\"Null %\"] = (play_store_data.isnull().sum()/len(play_store_data))*100\n",
        "table[\"Unique Values\"] = play_store_data.nunique()\n",
        "table"
      ],
      "metadata": {
        "id": "wk-9a2fpoLcV"
      },
      "execution_count": null,
      "outputs": []
    },
    {
      "cell_type": "markdown",
      "source": [
        "**Findings**:\n",
        "* Rating column has 13.59% null values (1,474 rows), which may affect average rating analysis.\n",
        "* Minor nulls found in:\n",
        "Type: 1 missing\n",
        "Content Rating: 1 missing\n",
        "Current Ver: 8 missing\n",
        "Android Ver: 3 missing\n",
        "* Null percentages in these columns are less than 1%, safe to drop or fill."
      ],
      "metadata": {
        "id": "hCdRe9XlG5TT"
      }
    },
    {
      "cell_type": "markdown",
      "source": [
        "**Current Ver and Android Ver** :\n",
        "* The columns Current Ver and Android Ver have 8 and 3 missing values respectively, which is a very small fraction of the dataset.\n",
        "* These columns are not critical for our analysis or business insights, and they do not contribute significantly to visualizations or decision-making.\n",
        "* Since the missing values cannot be imputed reliably due to the lack of related context, and dropping the rows could result in unnecessary data loss, we choose to leave these null values as they are.\n",
        "* Their presence will not impact the analysis, as these columns will not be used in any meaningful way during exploration or modeling."
      ],
      "metadata": {
        "id": "_YA7A-8eFvz9"
      }
    },
    {
      "cell_type": "markdown",
      "source": [
        "First, we handle column with fewer NaN values. These can be filled using mean, median, or mode, or dropped if there's a valid reason.\n",
        "\n",
        "##### **`1). Type: There is 1 NaN value in this column.`**"
      ],
      "metadata": {
        "id": "UGFI0cSPdWlP"
      }
    },
    {
      "cell_type": "code",
      "source": [
        "# Rows containing NaN values in the Rating column\n",
        "play_store_data[play_store_data['Type'].isnull()]"
      ],
      "metadata": {
        "id": "u3OQFbF3E0X3"
      },
      "execution_count": null,
      "outputs": []
    },
    {
      "cell_type": "markdown",
      "source": [
        "It has shown that there is 1 NaN value, dropping it likely won't significantly affect the analysis."
      ],
      "metadata": {
        "id": "ji10pmPcf9CN"
      }
    },
    {
      "cell_type": "code",
      "source": [
        "play_store_data.dropna(subset=['Type'], inplace=True)\n",
        "play_store_data[play_store_data['Type'].isnull()]"
      ],
      "metadata": {
        "id": "J6GL2bEafsQU"
      },
      "execution_count": null,
      "outputs": []
    },
    {
      "cell_type": "markdown",
      "source": [
        "##### **`2). Content Rating: There is 1 NaN value in this column.`**"
      ],
      "metadata": {
        "id": "c109ILiVCQfZ"
      }
    },
    {
      "cell_type": "code",
      "source": [
        "play_store_data[play_store_data['Content Rating'].isnull()]"
      ],
      "metadata": {
        "id": "pt-O47LKCe6L"
      },
      "execution_count": null,
      "outputs": []
    },
    {
      "cell_type": "markdown",
      "source": [
        "It also has shown that there is 1 NaN value, dropping it likely won't significantly affect the analysis."
      ],
      "metadata": {
        "id": "Jr0_FRJwDM-q"
      }
    },
    {
      "cell_type": "code",
      "source": [
        "play_store_data.dropna(subset=['Content Rating'], inplace=True)\n",
        "play_store_data[play_store_data['Content Rating'].isnull()]"
      ],
      "metadata": {
        "id": "jDpdZKvLDVF-"
      },
      "execution_count": null,
      "outputs": []
    },
    {
      "cell_type": "markdown",
      "source": [
        "##### **`2). Rating: There are 1474 NaN values in this column.`**"
      ],
      "metadata": {
        "id": "D9DzdMuJGM8e"
      }
    },
    {
      "cell_type": "code",
      "source": [
        "play_store_data[play_store_data['Rating'].isnull()]"
      ],
      "metadata": {
        "id": "VlZHq3oCGhOo"
      },
      "execution_count": null,
      "outputs": []
    },
    {
      "cell_type": "markdown",
      "source": [
        "* The Rating column has 1,474 missing values, accounting for approximately 13.59% of the dataset.\n",
        "* Dropping these rows would result in a significant loss of valuable information and could manipulate the dataset by removing diverse user perspectives.\n",
        "* Imputing with the mean or median could introduce bias and distort the overall rating distribution.\n",
        "* Therefore, to maintain neutrality and retain data integrity, we choose to fill these missing values with 1, representing a neutral or balanced user opinion."
      ],
      "metadata": {
        "id": "brEHJP4JGvrC"
      }
    },
    {
      "cell_type": "code",
      "source": [
        "play_store_data['Rating'] = play_store_data['Rating'].fillna(1)\n",
        "play_store_data[play_store_data['Rating'].isnull()]"
      ],
      "metadata": {
        "id": "prtMZdvRJxtT"
      },
      "execution_count": null,
      "outputs": []
    },
    {
      "cell_type": "markdown",
      "source": [
        "### **Handling duplicates values**"
      ],
      "metadata": {
        "id": "EAi42DslcdMT"
      }
    },
    {
      "cell_type": "code",
      "source": [
        "# Inspecting the duplicated rows in Play Store Data\n",
        "duplicates= play_store_data[play_store_data.duplicated(keep=False)]\n",
        "print(duplicates)"
      ],
      "metadata": {
        "id": "By1Rml0ny2jy"
      },
      "execution_count": null,
      "outputs": []
    },
    {
      "cell_type": "markdown",
      "source": [
        "This reveals a significant presence of exact duplicate rows in the dataset, indicating a need for data cleaning to ensure accurate and reliable insights during further exploration.\n"
      ],
      "metadata": {
        "id": "xX9TFoJEL-00"
      }
    },
    {
      "cell_type": "code",
      "source": [
        "play_store_data = play_store_data.drop_duplicates().reset_index(drop=True)"
      ],
      "metadata": {
        "id": "J-AqefG2sW6q"
      },
      "execution_count": null,
      "outputs": []
    },
    {
      "cell_type": "code",
      "source": [
        "play_store_data.duplicated().sum()"
      ],
      "metadata": {
        "id": "1Fh9fko7ttye"
      },
      "execution_count": null,
      "outputs": []
    },
    {
      "cell_type": "code",
      "source": [
        "# Inspecting and Removing duplicated rows in User Reviews Data\n",
        "user_reviews_data.duplicated().sum()"
      ],
      "metadata": {
        "id": "5dGhoBnSvB-O"
      },
      "execution_count": null,
      "outputs": []
    },
    {
      "cell_type": "code",
      "source": [
        "# Dropping duplicated Rows\n",
        "user_reviews_data = user_reviews_data.drop_duplicates().reset_index(drop=True)"
      ],
      "metadata": {
        "id": "i3MrAONRxGNu"
      },
      "execution_count": null,
      "outputs": []
    },
    {
      "cell_type": "code",
      "source": [
        "user_reviews_data.duplicated().sum()"
      ],
      "metadata": {
        "id": "wjZth2pQxtaf"
      },
      "execution_count": null,
      "outputs": []
    },
    {
      "cell_type": "markdown",
      "source": [
        "We have successfully handled all the exact duplicate rows in Play Store Data and User Reviews Dataset."
      ],
      "metadata": {
        "id": "qUH3xZlkUMQA"
      }
    },
    {
      "cell_type": "code",
      "source": [
        "# The resultant size after droping the duplicate rows in both the dataset\n",
        "print(play_store_data.shape)\n",
        "print(user_reviews_data.shape)"
      ],
      "metadata": {
        "id": "bTZEFSZ8yHET"
      },
      "execution_count": null,
      "outputs": []
    },
    {
      "cell_type": "markdown",
      "source": [
        "### **Handling the datatypes**"
      ],
      "metadata": {
        "id": "_eCzEODVWYM4"
      }
    },
    {
      "cell_type": "markdown",
      "source": [
        "#### **`1). Converting the datatype of values in the Reviews column from string to int.`**"
      ],
      "metadata": {
        "id": "UmbagGzwXBcC"
      }
    },
    {
      "cell_type": "code",
      "source": [
        "# Convert the datatype from object to int\n",
        "play_store_data['Reviews'] = play_store_data['Reviews'].astype(int)\n",
        "play_store_data.info()"
      ],
      "metadata": {
        "id": "j84Qo93sWl3n"
      },
      "execution_count": null,
      "outputs": []
    },
    {
      "cell_type": "markdown",
      "source": [
        "#### **`2). Converting the values in Size column to a same unit of measure i.e. MB.`**"
      ],
      "metadata": {
        "id": "DphuyKolZzWb"
      }
    },
    {
      "cell_type": "code",
      "source": [
        "# Check unique values in a particular Size column\n",
        "play_store_data['Size'].value_counts()"
      ],
      "metadata": {
        "id": "kPuMZ5ZpasR3"
      },
      "execution_count": null,
      "outputs": []
    },
    {
      "cell_type": "markdown",
      "source": [
        "The Size column contains values in mixed units — ‘M’ for MB and ‘k’ for KB. To simplify analysis, we'll convert all sizes to a single unit: MB.\n",
        "Since 1 MB = 1024 KB, any value in KB will be divided by 1024 to convert it to MB.\n",
        "\n",
        "Also, there are some inconsistent entries 'Varies with device' that needs to be cleaned.\n"
      ],
      "metadata": {
        "id": "9yuaCt2Jd8NJ"
      }
    },
    {
      "cell_type": "code",
      "source": [
        "# Replace 'Varies with device' with NaN to handle inconsistent entries\n",
        "play_store_data['Size'] = play_store_data['Size'].replace('Varies with device', np.nan)\n",
        "\n",
        "# Convert all sizes to MB\n",
        "play_store_data['Size'] = play_store_data['Size'].apply(\n",
        "    lambda x: float(x[:-1]) if 'M' in str(x)        # If value ends with 'M' (MB), remove 'M' and convert to float\n",
        "    else round(float(x[:-1]) / 1024, 4) if 'k' in str(x)  # If value ends with 'k' (KB), convert to MB by dividing by 1024\n",
        "    else x                                          # Leave as is (NaN or already processed)\n",
        ")\n",
        "play_store_data"
      ],
      "metadata": {
        "id": "qVlhLQDyeZY3"
      },
      "execution_count": null,
      "outputs": []
    },
    {
      "cell_type": "markdown",
      "source": [
        "Now, the Size column contains a large number of NaN values due to the removal of \"Varies with device\". Since dropping these would lead to major data loss, we need to impute them. We'll check whether mean or median is more appropriate for filling these missing values.\n"
      ],
      "metadata": {
        "id": "wdKP7NMFQKb-"
      }
    },
    {
      "cell_type": "code",
      "source": [
        "# Check mean and median of the Size column\n",
        "size_mean = play_store_data['Size'].mean()\n",
        "print(\"Mean Size:\", size_mean)\n",
        "size_median = play_store_data['Size'].median()\n",
        "print(\"Median Size:\", size_median)"
      ],
      "metadata": {
        "id": "zb7hoYw6R4rv"
      },
      "execution_count": null,
      "outputs": []
    },
    {
      "cell_type": "markdown",
      "source": [
        "**Visualization of distribution of Size using Histogram and detecting the outliers using Boxplot**"
      ],
      "metadata": {
        "id": "OLpy9CWohboE"
      }
    },
    {
      "cell_type": "code",
      "source": [
        "fig, ax = plt.subplots(2, 1, figsize=(12, 7))  # Create figure and axes\n",
        "\n",
        "# Histogram + KDE\n",
        "sns.histplot(play_store_data['Size'], kde=True, color='skyblue', ax=ax[0])  # Plot on ax[0]\n",
        "ax[0].set_title('Size Distribution with KDE')\n",
        "ax[0].axvline(size_mean, color='red', linestyle='dashed', linewidth=2, label='Mean')  # Add mean line\n",
        "ax[0].axvline(size_median, color='green', linestyle='dashed', linewidth=2, label='Median')  # Add median line\n",
        "ax[0].legend()\n",
        "\n",
        "# Boxplot\n",
        "sns.boxplot(x=play_store_data['Size'], color='lightgreen', ax=ax[1])  # Plot on ax[1]\n",
        "ax[1].set_title('Boxplot of Size')\n",
        "\n",
        "plt.tight_layout()\n",
        "plt.show()"
      ],
      "metadata": {
        "id": "BUGvAXCWZe86"
      },
      "execution_count": null,
      "outputs": []
    },
    {
      "cell_type": "markdown",
      "source": [
        "\n",
        "* The Size column is right-skewed, with outliers\n",
        "appearing at the maximum or rightmost end.\n",
        "* Also, the NaN values represents a significant portion but not the majority, so imputing these values with the median is a reasonable approach, as it will not distort the data significantly.\n"
      ],
      "metadata": {
        "id": "GlgaKos4iAAU"
      }
    },
    {
      "cell_type": "code",
      "source": [
        "play_store_data['Size'].fillna(size_median, inplace=True)\n",
        "play_store_data"
      ],
      "metadata": {
        "id": "Y-IQR088kNF_"
      },
      "execution_count": null,
      "outputs": []
    },
    {
      "cell_type": "markdown",
      "source": [
        "We have successfully manipulated all the entries in the Size column to a single unit of measure (MB) and the datatype from string to float."
      ],
      "metadata": {
        "id": "AhvwhiP0k2Zt"
      }
    },
    {
      "cell_type": "markdown",
      "source": [
        "#### **`3). Converting the datatype of values in Installs column `**"
      ],
      "metadata": {
        "id": "pMiKd4qylpNK"
      }
    },
    {
      "cell_type": "code",
      "source": [
        "# Checking the values of the 'Installs' column\n",
        "play_store_data['Installs'].value_counts()"
      ],
      "metadata": {
        "id": "MSYc58Pql4yi"
      },
      "execution_count": null,
      "outputs": []
    },
    {
      "cell_type": "markdown",
      "source": [
        "To convert all values in the Installs column to integers, we first need to\n",
        "remove the '+', ',' symbols from each entry. After that, we can safely change the datatype to integer."
      ],
      "metadata": {
        "id": "_NjWL2HimXJU"
      }
    },
    {
      "cell_type": "code",
      "source": [
        "def remove_symbols(val):\n",
        "# Remove commas, and '+' then convert to int\n",
        "  return int(val.replace(',', '').replace('+', ''))\n",
        "\n",
        "# Apply to the Installs column\n",
        "play_store_data['Installs']= play_store_data['Installs'].apply(remove_symbols)\n",
        "play_store_data"
      ],
      "metadata": {
        "id": "ZsO6fWiW2Bef"
      },
      "execution_count": null,
      "outputs": []
    },
    {
      "cell_type": "markdown",
      "source": [
        "#### **`4). Converting the datatype of values in Price column `**"
      ],
      "metadata": {
        "id": "qPMnvNjxFRu5"
      }
    },
    {
      "cell_type": "code",
      "source": [
        "# Checking the values of the 'Price' column\n",
        "play_store_data['Price'].value_counts()"
      ],
      "metadata": {
        "id": "9TMy4ua8FlFN"
      },
      "execution_count": null,
      "outputs": []
    },
    {
      "cell_type": "markdown",
      "source": [
        "To convert all values in the Price column to float, we first need to remove the '$' symbol from each entry. After that, we can safely change the datatype to float."
      ],
      "metadata": {
        "id": "Hx4ktzS_F_lq"
      }
    },
    {
      "cell_type": "code",
      "source": [
        "def remove_dollar(val):\n",
        "  # Remove '$' then convert to float\n",
        "  return float(val.replace('$', ''))\n",
        "\n",
        "# Apply to the Price column\n",
        "play_store_data['Price'] = play_store_data['Price'].apply(remove_dollar)\n",
        "play_store_data"
      ],
      "metadata": {
        "id": "_mVfNMPBGJI3"
      },
      "execution_count": null,
      "outputs": []
    },
    {
      "cell_type": "code",
      "source": [
        "# Checking again if all the datatypes got successfully corrected\n",
        "play_store_data.dtypes"
      ],
      "metadata": {
        "id": "gls0HpocBzbF"
      },
      "execution_count": null,
      "outputs": []
    },
    {
      "cell_type": "markdown",
      "source": [
        "### **Handling the Datetime elements**"
      ],
      "metadata": {
        "id": "yXaMOoS_Da3x"
      }
    },
    {
      "cell_type": "markdown",
      "source": [
        "The pandas.to_datetime() function converts string values in the Last Updated column into Python datetime objects for easier date handling and analysis."
      ],
      "metadata": {
        "id": "Bz2Rpqr1EWLF"
      }
    },
    {
      "cell_type": "code",
      "source": [
        "#Converting the Datatype of the 'Last Updated' column from object to datetime\n",
        "play_store_data['Last Updated'] = pd.to_datetime(play_store_data['Last Updated'])\n",
        "play_store_data"
      ],
      "metadata": {
        "id": "amAZ7Y5bDww_"
      },
      "execution_count": null,
      "outputs": []
    },
    {
      "cell_type": "code",
      "source": [
        "# Check if 'Last Updated' is converted to datetime by extracting the year\n",
        "play_store_data['Last Updated'].dt.year.head()"
      ],
      "metadata": {
        "id": "8XTM4X96E5cJ"
      },
      "execution_count": null,
      "outputs": []
    },
    {
      "cell_type": "markdown",
      "source": [
        "### **Merging Play Store Data and User Reviews Datasets**"
      ],
      "metadata": {
        "id": "c8VURAeWzPTd"
      }
    },
    {
      "cell_type": "code",
      "source": [
        "# To work conveniently with these datasets together, inner merge is suitable on common column App\n",
        "data = play_store_data.merge(user_reviews_data, on='App', how='inner')\n",
        "data"
      ],
      "metadata": {
        "id": "hMCXJpgpzPTd"
      },
      "execution_count": null,
      "outputs": []
    },
    {
      "cell_type": "code",
      "source": [
        "# Size of the data\n",
        "data.shape"
      ],
      "metadata": {
        "id": "iL2_WiSPzPTe"
      },
      "execution_count": null,
      "outputs": []
    },
    {
      "cell_type": "code",
      "source": [
        "data.isnull().sum()"
      ],
      "metadata": {
        "id": "pThfmujbzPTe"
      },
      "execution_count": null,
      "outputs": []
    },
    {
      "cell_type": "markdown",
      "source": [
        "### What all manipulations have you done and insights you found?"
      ],
      "metadata": {
        "id": "MSa1f5Uengrz"
      }
    },
    {
      "cell_type": "markdown",
      "source": [
        "🧹 Handled NaN values by either removing or imputing missing data to keep analysis clean and accurate.\n",
        "\n",
        "🔄 Removed duplicate entries to avoid biased results.\n",
        "\n",
        "🔧 Corrected data types (e.g., converting ratings to numeric, dates to datetime) for proper calculations and filtering.\n",
        "\n",
        "📅 Processed datetime columns like Last Updated to analyze trends over time.\n",
        "\n",
        "🔗 Merged Play Store app data with user reviews on the App name to combine features with user sentiment."
      ],
      "metadata": {
        "id": "wIrkk9Hke6BY"
      }
    },
    {
      "cell_type": "markdown",
      "source": [
        "## ***4. Data Vizualization, Storytelling & Experimenting with charts : Understand the relationships between variables***"
      ],
      "metadata": {
        "id": "GF8Ens_Soomf"
      }
    },
    {
      "cell_type": "markdown",
      "source": [
        "#### Distribution of App Ratings\n",
        "\n"
      ],
      "metadata": {
        "id": "0wOQAZs5pc--"
      }
    },
    {
      "cell_type": "code",
      "source": [
        "# Plot histogram with KDE for app Ratings\n",
        "plt.figure(figsize=(10, 4))\n",
        "sns.histplot(play_store_data['Rating'], bins=20, kde=True, color='skyblue')\n",
        "plt.title('Distribution of App Ratings')\n",
        "plt.xlabel('Rating')\n",
        "plt.ylabel('Count')\n",
        "plt.grid(True)\n",
        "plt.show()"
      ],
      "metadata": {
        "id": "7v_ESjsspbW7"
      },
      "execution_count": null,
      "outputs": []
    },
    {
      "cell_type": "markdown",
      "source": [
        "##### 1. Why did you pick the specific chart?"
      ],
      "metadata": {
        "id": "K5QZ13OEpz2H"
      }
    },
    {
      "cell_type": "markdown",
      "source": [
        " A histogram with KDE is chosen to show the overall distribution of app ratings. It helps identify how ratings are spread (e.g., skewed, normal), where most apps cluster, and if any unusual patterns or outliers exist."
      ],
      "metadata": {
        "id": "XESiWehPqBRc"
      }
    },
    {
      "cell_type": "markdown",
      "source": [
        "##### 2. What is/are the insight(s) found from the chart?"
      ],
      "metadata": {
        "id": "lQ7QKXXCp7Bj"
      }
    },
    {
      "cell_type": "markdown",
      "source": [
        "* The plot shows a concentration of apps with ratings in the 4 to 4.5 range indicating that the majority of apps on the Google Play Store are well-received by users\n",
        "* The KDE plot (the smooth curve overlaying the histogram) shows a slight left skew suggesting that there are more apps with slightly lower ratings than apps with very high ratings.\n",
        "* Notably, ratings of 1.0 might represent users who didn't provide feedback and could be considered neutral rather."
      ],
      "metadata": {
        "id": "C_j1G7yiqdRP"
      }
    },
    {
      "cell_type": "markdown",
      "source": [
        "##### 3. Will the gained insights help creating a positive business impact?\n",
        "Are there any insights that lead to negative growth? Justify with specific reason."
      ],
      "metadata": {
        "id": "448CDAPjqfQr"
      }
    },
    {
      "cell_type": "markdown",
      "source": [
        "* To create positive business developers can spot apps with low ratings and work on fixing bugs or improving features to boost user satisfaction. This can be attained by studying highly-rated apps, identifying features users love and try to include similar ones.\n",
        "* Only thing that could lead to negative growth is when developers ignore the insights and fail to address issues that lead to low ratings, it could negatively impact their app's success and user satisfaction resulting decreased downloads, negative reviews."
      ],
      "metadata": {
        "id": "3cspy4FjqxJW"
      }
    },
    {
      "cell_type": "markdown",
      "source": [
        "#### Relationship between app Rating and Price"
      ],
      "metadata": {
        "id": "KSlN3yHqYklG"
      }
    },
    {
      "cell_type": "code",
      "source": [
        "# Scatter plot to show relationship between app Rating and Price\n",
        "plt.figure(figsize = (7,4))\n",
        "sns.scatterplot(x = 'Rating', y = 'Price', data = play_store_data, color = 'red')\n",
        "plt.title('Relationship between App Rating and Price')\n",
        "plt.xlabel('Rating')\n",
        "plt.ylabel('Price (USD)')\n",
        "plt.show()"
      ],
      "metadata": {
        "id": "R4YgtaqtYklH"
      },
      "execution_count": null,
      "outputs": []
    },
    {
      "cell_type": "markdown",
      "source": [
        "##### 1. Why did you pick the specific chart?"
      ],
      "metadata": {
        "id": "t6dVpIINYklI"
      }
    },
    {
      "cell_type": "markdown",
      "source": [
        "A scatter plot is used here because it effectively shows the relationship between two continuous variables—app rating and price. It helps reveal trends, patterns, or correlations, such as whether higher prices lead to better ratings. The plot also makes it easy to spot outliers, like apps with unusually low ratings despite high prices. Since both variables are numerical and continuous, the scatter plot is a clear and simple way to interpret how price may influence user satisfaction."
      ],
      "metadata": {
        "id": "5aaW0BYyYklI"
      }
    },
    {
      "cell_type": "markdown",
      "source": [
        "##### 2. What is/are the insight(s) found from the chart?"
      ],
      "metadata": {
        "id": "ijmpgYnKYklI"
      }
    },
    {
      "cell_type": "markdown",
      "source": [
        "* Free apps (Price = 0) show a wide range of ratings (2.5 to 4.5), indicating variability in quality among free apps.\n",
        "* Paid apps generally have higher ratings (3.5 to 4.9), suggesting that paid apps might offer better quality or user satisfaction.\n",
        "* High-priced apps (e.g., $9.99) can still achieve high ratings, indicating that price doesn’t necessarily deter users if the app delivers value."
      ],
      "metadata": {
        "id": "PSx9atu2YklI"
      }
    },
    {
      "cell_type": "markdown",
      "source": [
        "##### 3. Will the gained insights help creating a positive business impact?\n",
        "Are there any insights that lead to negative growth? Justify with specific reason."
      ],
      "metadata": {
        "id": "-JiQyfWJYklI"
      }
    },
    {
      "cell_type": "markdown",
      "source": [
        "* Positive Business Impact: The insights might help developers with pricing strategies. For example, if there's a weak positive correlation between price and rating, it could suggest that users are willing to pay more for higher-quality apps.\n",
        "* Negative Growth: If paid apps consistently receive lower ratings than free apps, it could discourage users from purchasing apps and impact developers' revenue."
      ],
      "metadata": {
        "id": "BcBbebzrYklV"
      }
    },
    {
      "cell_type": "markdown",
      "source": [
        "#### Relationship between app Rating and Size"
      ],
      "metadata": {
        "id": "EM7whBJCYoAo"
      }
    },
    {
      "cell_type": "code",
      "source": [
        "# Scatter plot to show the relationship between Rating and Size\n",
        "plt.figure(figsize=(10, 5))\n",
        "sns.scatterplot(x='Size', y='Rating', data=play_store_data, color='skyblue')\n",
        "plt.title('App Rating vs. Size')\n",
        "plt.xlabel('Size (MB)')\n",
        "plt.ylabel('App Rating')\n",
        "plt.show()"
      ],
      "metadata": {
        "id": "t6GMdE67YoAp"
      },
      "execution_count": null,
      "outputs": []
    },
    {
      "cell_type": "markdown",
      "source": [
        "##### 1. Why did you pick the specific chart?"
      ],
      "metadata": {
        "id": "fge-S5ZAYoAp"
      }
    },
    {
      "cell_type": "markdown",
      "source": [
        "I chose a scatter plot to visualize the relationship between Rating and Size because it effectively shows patterns and variability between two numerical variables, highlighting how app size impacts ratings."
      ],
      "metadata": {
        "id": "5dBItgRVYoAp"
      }
    },
    {
      "cell_type": "markdown",
      "source": [
        "##### 2. What is/are the insight(s) found from the chart?"
      ],
      "metadata": {
        "id": "85gYPyotYoAp"
      }
    },
    {
      "cell_type": "markdown",
      "source": [
        "* There's a slight negative correlation, suggesting that smaller apps might have slightly higher ratings on average. However, the relationship is not very strong.\n",
        "* Ratings vary widely (3.5 to 4.7) across sizes (5 MB to 90 MB).\n",
        "* Smaller apps (e.g., 15 MB, 4.5 rating) can perform well, while larger apps (e.g., 70 MB, 3.9 rating) may have lower ratings.\n",
        "* Some larger apps (e.g., 50 MB, 4.7 rating) have high ratings, suggesting users tolerate bigger sizes if the app adds value."
      ],
      "metadata": {
        "id": "4jstXR6OYoAp"
      }
    },
    {
      "cell_type": "markdown",
      "source": [
        "##### 3. Will the gained insights help creating a positive business impact?\n",
        "Are there any insights that lead to negative growth? Justify with specific reason."
      ],
      "metadata": {
        "id": "RoGjAbkUYoAp"
      }
    },
    {
      "cell_type": "markdown",
      "source": [
        "* Positive Business Impact: Developers can prioritize functionality over minimizing app size, as high ratings for larger apps (e.g., 50 MB, 4.7 rating) show users value quality, allowing for feature-rich apps without compromising user experience.\n",
        "* Negative Growth: Large app sizes can deter users with limited storage, especially if quality doesn’t match the size (e.g., 70 MB, 3.9 rating), potentially leading to lower adoption rates and negative growth for larger apps with subpar performance."
      ],
      "metadata": {
        "id": "zfJ8IqMcYoAp"
      }
    },
    {
      "cell_type": "markdown",
      "source": [
        "#### Relationship between App Rating and Number of Installs"
      ],
      "metadata": {
        "id": "4Of9eVA-YrdM"
      }
    },
    {
      "cell_type": "code",
      "source": [
        "# Scatter plot to show the relationship between Rating and no. of Installs\n",
        "plt.figure(figsize=(12, 6))\n",
        "sns.scatterplot(x='Installs', y='Rating', size='Reviews',sizes=(20, 1000), data=play_store_data, color='cadetblue', alpha=0.6)\n",
        "plt.title('App Rating vs. Number of Installs')\n",
        "plt.xlabel('Number of Installs')\n",
        "plt.xscale('log')\n",
        "plt.ylabel('App Rating')\n",
        "plt.legend(title='Reviews', loc='upper left', bbox_to_anchor=(1, 1))\n",
        "plt.show()"
      ],
      "metadata": {
        "id": "irlUoxc8YrdO"
      },
      "execution_count": null,
      "outputs": []
    },
    {
      "cell_type": "markdown",
      "source": [
        "##### 1. Why did you pick the specific chart?"
      ],
      "metadata": {
        "id": "iky9q4vBYrdO"
      }
    },
    {
      "cell_type": "markdown",
      "source": [
        "I chose a scatter plot with a logarithmic X-axis to visualize the relationship between Rating and Installs, as it handles the wide range of Installs (1,000 to 50M) and shows patterns between two numerical variables."
      ],
      "metadata": {
        "id": "aJRCwT6DYrdO"
      }
    },
    {
      "cell_type": "markdown",
      "source": [
        "##### 2. What is/are the insight(s) found from the chart?"
      ],
      "metadata": {
        "id": "F6T5p64dYrdO"
      }
    },
    {
      "cell_type": "markdown",
      "source": [
        "There appears to be a weak positive correlation between the number of installs and the app rating. This suggests that apps with a higher number of installs tend to have slightly higher ratings, possibly indicating that more popular apps are generally better received by users.\n"
      ],
      "metadata": {
        "id": "Xx8WAJvtYrdO"
      }
    },
    {
      "cell_type": "markdown",
      "source": [
        "##### 3. Will the gained insights help creating a positive business impact?\n",
        "Are there any insights that lead to negative growth? Justify with specific reason."
      ],
      "metadata": {
        "id": "y-Ehk30pYrdP"
      }
    },
    {
      "cell_type": "markdown",
      "source": [
        "* Positive Business Impact: High ratings for apps with many installs (e.g., 50M installs, 4.6 rating) suggest focusing on quality can boost adoption and revenue.\n",
        "* Negative Growth: Low ratings with fewer installs (e.g., 1,000 installs, 3.5 rating) may limit growth, leading to stagnation if quality isn’t improved."
      ],
      "metadata": {
        "id": "jLNxxz7MYrdP"
      }
    },
    {
      "cell_type": "markdown",
      "source": [
        "#### Distribution of app Categories"
      ],
      "metadata": {
        "id": "bamQiAODYuh1"
      }
    },
    {
      "cell_type": "code",
      "source": [
        "# Bar Plot for showing the distribution of app categories\n",
        "plt.figure(figsize=(12, 6))\n",
        "category_counts = play_store_data['Category'].value_counts().sort_values(ascending=False)\n",
        "category_counts.plot(kind='bar', color='plum')\n",
        "plt.title('Distribution of App Categories')\n",
        "plt.xlabel('App Category')\n",
        "plt.ylabel('Number of Apps')\n",
        "plt.xticks(rotation=45, ha='right')\n",
        "plt.tight_layout()\n",
        "plt.show()"
      ],
      "metadata": {
        "id": "TIJwrbroYuh3"
      },
      "execution_count": null,
      "outputs": []
    },
    {
      "cell_type": "markdown",
      "source": [
        "##### 1. Why did you pick the specific chart?"
      ],
      "metadata": {
        "id": "QHF8YVU7Yuh3"
      }
    },
    {
      "cell_type": "markdown",
      "source": [
        "A bar chart is perfect for showing category-wise comparisons, here it clearly displays the number of apps per category."
      ],
      "metadata": {
        "id": "dcxuIMRPYuh3"
      }
    },
    {
      "cell_type": "markdown",
      "source": [
        "##### 2. What is/are the insight(s) found from the chart?"
      ],
      "metadata": {
        "id": "GwzvFGzlYuh3"
      }
    },
    {
      "cell_type": "markdown",
      "source": [
        "* FAMILY has the most apps.\n",
        "\n",
        "* GAME and TOOLS are also dominant.\n",
        "\n",
        "* BEAUTY, PARENTING, and COMICS have the fewest apps."
      ],
      "metadata": {
        "id": "uyqkiB8YYuh3"
      }
    },
    {
      "cell_type": "markdown",
      "source": [
        "##### 3. Will the gained insights help creating a positive business impact?\n",
        "Are there any insights that lead to negative growth? Justify with specific reason."
      ],
      "metadata": {
        "id": "qYpmQ266Yuh3"
      }
    },
    {
      "cell_type": "markdown",
      "source": [
        "* Positive Business Impact: Developers can use this information to identify popular app categories and target their app development efforts accordingly.\n",
        "* Negative Growth: Categories with fewer apps might represent niche markets or areas with less user interest, potentially leading to challenges in gaining traction and achieving significant growth."
      ],
      "metadata": {
        "id": "_WtzZ_hCYuh4"
      }
    },
    {
      "cell_type": "markdown",
      "source": [
        "####  Sentiment Analysis Visualization"
      ],
      "metadata": {
        "id": "OH-pJp9IphqM"
      }
    },
    {
      "cell_type": "code",
      "source": [
        "# Histogram plot for Sentiment Analysis\n",
        "plt.figure(figsize=(10, 4))\n",
        "sns.histplot(user_reviews_data['Sentiment_Polarity'], bins=20, kde=True)\n",
        "plt.title('Distribution of Sentiment Polarity Scores')\n",
        "plt.xlabel('Sentiment Polarity')\n",
        "plt.ylabel('Frequency')\n",
        "plt.show()\n"
      ],
      "metadata": {
        "id": "kuRf4wtuphqN"
      },
      "execution_count": null,
      "outputs": []
    },
    {
      "cell_type": "markdown",
      "source": [
        "##### 1. Why did you pick the specific chart?"
      ],
      "metadata": {
        "id": "bbFf2-_FphqN"
      }
    },
    {
      "cell_type": "markdown",
      "source": [
        "A histogram is suitable for visualizing the distribution of sentiment polarity scores, which are numerical values representing the sentiment expressed in user reviews. It shows the frequency of positive, neutral, and negative sentiments."
      ],
      "metadata": {
        "id": "loh7H2nzphqN"
      }
    },
    {
      "cell_type": "markdown",
      "source": [
        "##### 2. What is/are the insight(s) found from the chart?"
      ],
      "metadata": {
        "id": "_ouA3fa0phqN"
      }
    },
    {
      "cell_type": "markdown",
      "source": [
        "* Most reviews have neutral (around 0) or slightly positive sentiment.\n",
        "\n",
        "* Very few extreme negative (-1) or highly positive (+1) reviews.\n",
        "\n",
        "* Sentiment is slightly right-skewed (more positive than negative).\n",
        "\n"
      ],
      "metadata": {
        "id": "WTwzxmbJb5MY"
      }
    },
    {
      "cell_type": "markdown",
      "source": [
        "##### 3. Will the gained insights help creating a positive business impact?\n",
        "Are there any insights that lead to negative growth? Justify with specific reason."
      ],
      "metadata": {
        "id": "Seke61FWphqN"
      }
    },
    {
      "cell_type": "markdown",
      "source": [
        "* Positive business impact: This analysis helps developers understand the overall sentiment towards their app and the specific features or aspects that are driving positive or negative feedback. By focusing on addressing negative feedback and enhancing positive features, developers can improve user satisfaction and app ratings.\n",
        "* Negative Growth: There's a noticeable portion of reviews with negative sentiment polarity scores (below 0). These negative reviews could indicate areas where the app is not meeting user expectations or where there are usability issues. If these negative sentiments are not addressed, they could lead to negative growth through lower ratings, reduced user engagement, and negative word-of-mouth."
      ],
      "metadata": {
        "id": "DW4_bGpfphqN"
      }
    },
    {
      "cell_type": "markdown",
      "source": [
        "#### Relationship between Sentiment Scores and App Ratings"
      ],
      "metadata": {
        "id": "PIIx-8_IphqN"
      }
    },
    {
      "cell_type": "code",
      "source": [
        "# Scatter Plot to understand the correlation between Sentiment Scores and App Ratings\n",
        "plt.figure(figsize=(10, 4))\n",
        "sns.scatterplot(x='Sentiment_Polarity', y='Rating', data=data, color = '#6a5acd')\n",
        "plt.title('Relationship between Sentiment Scores and App Ratings')\n",
        "plt.xlabel('Sentiment Polarity')\n",
        "plt.ylabel('Rating')\n",
        "plt.show()"
      ],
      "metadata": {
        "id": "lqAIGUfyphqO"
      },
      "execution_count": null,
      "outputs": []
    },
    {
      "cell_type": "markdown",
      "source": [
        "##### 1. Why did you pick the specific chart?"
      ],
      "metadata": {
        "id": "t27r6nlMphqO"
      }
    },
    {
      "cell_type": "markdown",
      "source": [
        " A scatter plot is used to explore the correlation between sentiment polarity and app ratings. It helps us see if apps with more positive sentiments tend to have higher ratings."
      ],
      "metadata": {
        "id": "iv6ro40sphqO"
      }
    },
    {
      "cell_type": "markdown",
      "source": [
        "##### 2. What is/are the insight(s) found from the chart?"
      ],
      "metadata": {
        "id": "r2jJGEOYphqO"
      }
    },
    {
      "cell_type": "markdown",
      "source": [
        "* There is a positive correlation between sentiment scores and app ratings. Apps with higher sentiment polarity scores tend to have higher ratings, suggesting that user sentiment is a strong indicator of app quality and user satisfaction.\n",
        "* Most points are clustered around rating 4 and 5 across the sentiment spectrum, showing users generally rate apps positively even if the text isn't strongly enthusiastic.\n",
        "\n"
      ],
      "metadata": {
        "id": "Po6ZPi4hphqO"
      }
    },
    {
      "cell_type": "markdown",
      "source": [
        "##### 3. Will the gained insights help creating a positive business impact?\n",
        "Are there any insights that lead to negative growth? Justify with specific reason."
      ],
      "metadata": {
        "id": "b0JNsNcRphqO"
      }
    },
    {
      "cell_type": "markdown",
      "source": [
        "* Positive Business Impact: Developers can focus on features and improvements that enhance user experience and drive positive reviews, which in turn can lead to higher app ratings and better performance in the app store.\n",
        "* Negative Growth: If sentiment stays negative, ratings drop, affecting app visibility and trust."
      ],
      "metadata": {
        "id": "xvSq8iUTphqO"
      }
    },
    {
      "cell_type": "markdown",
      "source": [
        "#### Distribution of App Sizes within Different Categories"
      ],
      "metadata": {
        "id": "BZR9WyysphqO"
      }
    },
    {
      "cell_type": "code",
      "source": [
        "# Box Plot to visualize distribution of app size within different categories\n",
        "plt.figure(figsize=(14, 6))\n",
        "sns.boxplot(x='Category', y='Size', data=play_store_data, color= 'mediumorchid')\n",
        "plt.title('Distribution of App Sizes within Different Categories')\n",
        "plt.xlabel('Category')\n",
        "plt.ylabel('Size (MB)')\n",
        "plt.xticks(rotation=90)\n",
        "plt.tight_layout()\n",
        "plt.show()"
      ],
      "metadata": {
        "id": "TdPTWpAVphqO"
      },
      "execution_count": null,
      "outputs": []
    },
    {
      "cell_type": "markdown",
      "source": [
        "##### 1. Why did you pick the specific chart?"
      ],
      "metadata": {
        "id": "jj7wYXLtphqO"
      }
    },
    {
      "cell_type": "markdown",
      "source": [
        "This box plot is used because it clearly shows how app sizes vary across categories, including medians, ranges, and extreme outliers."
      ],
      "metadata": {
        "id": "Ob8u6rCTphqO"
      }
    },
    {
      "cell_type": "markdown",
      "source": [
        "##### 2. What is/are the insight(s) found from the chart?"
      ],
      "metadata": {
        "id": "eZrbJ2SmphqO"
      }
    },
    {
      "cell_type": "markdown",
      "source": [
        "* GAME and FAMILY apps are generally the largest, likely due to heavy media content.\n",
        "\n",
        "* TOOLS, MEDICAL, and BOOKS apps are smaller, focusing more on functionality than visuals.\n",
        "\n",
        "* Several categories show outliers, meaning some apps are unusually large compared to others in the same group.\n",
        "\n"
      ],
      "metadata": {
        "id": "mZtgC_hjphqO"
      }
    },
    {
      "cell_type": "markdown",
      "source": [
        "##### 3. Will the gained insights help creating a positive business impact?\n",
        "Are there any insights that lead to negative growth? Justify with specific reason."
      ],
      "metadata": {
        "id": "rFu4xreNphqO"
      }
    },
    {
      "cell_type": "markdown",
      "source": [
        "* Positive Business Impact: Developers can optimize their app sizes based on category norms and user expectations. For example, if a developer is creating a 'COMMUNICATION' app, they might aim for a smaller size to align with user expectations in that category.\n",
        "* Negative Growth: Yes, if an app's size is significantly larger than the typical size for its category, it could lead to negative user perception and potentially lower ratings. Users might be hesitant to download or update large apps, especially if they have limited storage space on their devices. This could hinder app adoption and potentially lead to negative growth."
      ],
      "metadata": {
        "id": "ey_0qi68phqO"
      }
    },
    {
      "cell_type": "markdown",
      "source": [
        "#### Ratio of number of Paid apps and Free apps"
      ],
      "metadata": {
        "id": "U2RJ9gkRphqQ"
      }
    },
    {
      "cell_type": "code",
      "source": [
        "# Pie Chart to identify the ratio of paid apps w.r.t free apps\n",
        "type_counts = play_store_data['Type'].value_counts()  # Store value counts in a separate variable\n",
        "labels = type_counts.index  # Use index as labels\n",
        "plt.figure(figsize=(6, 6))\n",
        "colors = [\"#ADD8FF\", \"#E0E6F8\"]\n",
        "explode = [0, 0.1]\n",
        "plt.pie(type_counts, labels=labels, colors=colors, autopct='%.2f%%', explode=explode, textprops={'fontsize': 15})\n",
        "plt.title('Distribution of Paid and Free apps', size=15, loc='center')\n",
        "plt.legend()\n",
        "plt.axis('equal')  # Equal aspect ratio ensures that pie is drawn as a circle.\n",
        "plt.show()"
      ],
      "metadata": {
        "id": "GM7a4YP4phqQ"
      },
      "execution_count": null,
      "outputs": []
    },
    {
      "cell_type": "markdown",
      "source": [
        "##### 1. Why did you pick the specific chart?"
      ],
      "metadata": {
        "id": "1M8mcRywphqQ"
      }
    },
    {
      "cell_type": "markdown",
      "source": [
        "A pie chart was chosen because it clearly shows the proportion between two categories — paid and free apps. It’s ideal for visualizing percentage-based comparisons at a glance."
      ],
      "metadata": {
        "id": "8agQvks0phqQ"
      }
    },
    {
      "cell_type": "markdown",
      "source": [
        "##### 2. What is/are the insight(s) found from the chart?"
      ],
      "metadata": {
        "id": "tgIPom80phqQ"
      }
    },
    {
      "cell_type": "markdown",
      "source": [
        "Around 92.61% are free, and only 7.39% are paid showing that free apps dominate the market. Most developers opt for a free model, likely monetized through ads or in-app purchases."
      ],
      "metadata": {
        "id": "Qp13pnNzphqQ"
      }
    },
    {
      "cell_type": "markdown",
      "source": [
        "##### 3. Will the gained insights help creating a positive business impact?\n",
        "Are there any insights that lead to negative growth? Justify with specific reason."
      ],
      "metadata": {
        "id": "JMzcOPDDphqR"
      }
    },
    {
      "cell_type": "markdown",
      "source": [
        "* Positive Business Impact: If launching a new app, consider starting with a free version to reach more users, then explore monetization options like premium or ads."
      ],
      "metadata": {
        "id": "R4Ka1PC2phqR"
      }
    },
    {
      "cell_type": "markdown",
      "source": [
        "#### Top 10 Highest-Earning Paid Apps on Google Play Store"
      ],
      "metadata": {
        "id": "N0FrrCURmI3T"
      }
    },
    {
      "cell_type": "code",
      "source": [
        "# Filter paid apps\n",
        "paid_apps = play_store_data[play_store_data['Type'] == 'Paid'].copy()\n",
        "\n",
        "# Calculate total revenue\n",
        "paid_apps['Total_Revenue'] = paid_apps['Price'] * paid_apps['Installs']\n",
        "\n",
        "# Drop duplicate app names (keep highest revenue entry)\n",
        "paid_apps_unique = paid_apps.sort_values(by='Total_Revenue', ascending=False).drop_duplicates(subset='App')\n",
        "\n",
        "# Get top 10 unique apps\n",
        "top10 = paid_apps_unique.head(10).reset_index(drop=True)\n",
        "\n",
        "# Plotting\n",
        "fig, ax = plt.subplots(figsize=(12, 6))\n",
        "ax.bar(top10['App'], top10['Total_Revenue'], color='purple')\n",
        "ax.set_title('Top 10 Unique Paid Apps by Total Revenue')\n",
        "ax.set_xlabel('App Name')\n",
        "ax.set_ylabel('Total Revenue ($)')\n",
        "ax.set_xticks(range(len(top10)))\n",
        "ax.set_xticklabels(top10['App'], rotation=90)\n",
        "ax.yaxis.set_major_formatter(ticker.FuncFormatter(lambda x, _: f'{int(x):,}'))\n",
        "\n",
        "plt.tight_layout()\n",
        "plt.show()\n"
      ],
      "metadata": {
        "id": "ajZjcyR8mI3U"
      },
      "execution_count": null,
      "outputs": []
    },
    {
      "cell_type": "markdown",
      "source": [
        "##### 1. Why did you pick the specific chart?"
      ],
      "metadata": {
        "id": "Z9vq-oZTmI3U"
      }
    },
    {
      "cell_type": "markdown",
      "source": [
        "It clearly shows revenue comparison among top unique paid apps using a simple bar chart—easy to read and compare."
      ],
      "metadata": {
        "id": "HM-f4GrPmI3V"
      }
    },
    {
      "cell_type": "markdown",
      "source": [
        "##### 2. What is/are the insight(s) found from the chart?"
      ],
      "metadata": {
        "id": "8GwiKoI6mI3V"
      }
    },
    {
      "cell_type": "markdown",
      "source": [
        "* Minecraft dominates with the highest revenue.\n",
        "\n",
        "* Multiple “I Am Rich”-type novelty apps make surprising revenue.\n",
        "\n",
        "* Popular games and utility apps also perform well."
      ],
      "metadata": {
        "id": "axnFa3MOmI3V"
      }
    },
    {
      "cell_type": "markdown",
      "source": [
        "##### 3. Will the gained insights help creating a positive business impact?\n",
        "Are there any insights that lead to negative growth? Justify with specific reason."
      ],
      "metadata": {
        "id": "4o0QmFHBmI3V"
      }
    },
    {
      "cell_type": "markdown",
      "source": [
        "* Positive Impact: Shows that premium apps can generate massive revenue, especially games or unique niche apps.\n",
        "\n",
        "* Negative Growth: High revenue from joke apps (like “I Am Rich”) may hurt store reputation and user trust if overused. Its a short-term profit with possible backlash"
      ],
      "metadata": {
        "id": "-R6_N_NMmI3V"
      }
    },
    {
      "cell_type": "markdown",
      "source": [
        "#### Box plots of Ratings within Categories"
      ],
      "metadata": {
        "id": "x-EpHcCOp1ci"
      }
    },
    {
      "cell_type": "code",
      "source": [
        "# Box plot: Ratings within Categories\n",
        "plt.figure(figsize=(14, 7))\n",
        "sns.boxplot(x='Category', y='Rating', data=play_store_data, palette= 'PuBuGn', hue = 'Category')\n",
        "plt.title('Distribution of Ratings across App Categories')\n",
        "plt.xlabel('Category')\n",
        "plt.xticks(rotation=90)\n",
        "plt.ylabel('Rating')\n",
        "plt.tight_layout()\n",
        "plt.show()"
      ],
      "metadata": {
        "id": "mAQTIvtqp1cj"
      },
      "execution_count": null,
      "outputs": []
    },
    {
      "cell_type": "markdown",
      "source": [
        "##### 1. Why did you pick the specific chart?"
      ],
      "metadata": {
        "id": "X_VqEhTip1ck"
      }
    },
    {
      "cell_type": "markdown",
      "source": [
        "Box plots clearly show rating distribution and outliers across categories, helping compare app quality visually."
      ],
      "metadata": {
        "id": "-vsMzt_np1ck"
      }
    },
    {
      "cell_type": "markdown",
      "source": [
        "##### 2. What is/are the insight(s) found from the chart?"
      ],
      "metadata": {
        "id": "8zGJKyg5p1ck"
      }
    },
    {
      "cell_type": "markdown",
      "source": [
        "* Categories like ART_AND_DESIGN, PARENTING, and BOOKS_AND_REFERENCE have consistently high median ratings, meaning users are generally satisfied.\n",
        "\n",
        "* MEDICAL, EVENTS, and BUSINESS categories have many outliers and low medians, indicating poor performance or inconsistent app quality.\n",
        "\n",
        "* High variance in GAME and FAMILY suggests uneven quality—some apps do well, others don’t."
      ],
      "metadata": {
        "id": "ZYdMsrqVp1ck"
      }
    },
    {
      "cell_type": "markdown",
      "source": [
        "##### 3. Will the gained insights help creating a positive business impact?\n",
        "Are there any insights that lead to negative growth? Justify with specific reason."
      ],
      "metadata": {
        "id": "PVzmfK_Ep1ck"
      }
    },
    {
      "cell_type": "markdown",
      "source": [
        "* Positive: Categories with high and stable ratings show strong user trust—ideal for investment, promotions, or feature expansion.\n",
        "\n",
        "* Negative: Low-performing categories like MEDICAL or EVENTS may damage brand perception if not improved. Poor ratings can reduce user retention and app store visibility."
      ],
      "metadata": {
        "id": "druuKYZpp1ck"
      }
    },
    {
      "cell_type": "markdown",
      "source": [
        "#### Scatter plots showing the relationship between Installs and Reviews"
      ],
      "metadata": {
        "id": "n3dbpmDWp1ck"
      }
    },
    {
      "cell_type": "code",
      "source": [
        "# Scatter plot indicating correlation of Installs with Reviews\n",
        "plt.figure(figsize=(8, 4))\n",
        "sns.scatterplot(x='Installs', y='Reviews', data=play_store_data, color='#8A2BE2')\n",
        "plt.title('Relationship between Installs and Reviews')\n",
        "plt.xlabel('Installs')\n",
        "plt.xscale('log')\n",
        "plt.ylabel('Reviews')\n",
        "plt.yscale('log')\n",
        "plt.show()"
      ],
      "metadata": {
        "id": "bwevp1tKp1ck"
      },
      "execution_count": null,
      "outputs": []
    },
    {
      "cell_type": "markdown",
      "source": [
        "##### 1. Why did you pick the specific chart?"
      ],
      "metadata": {
        "id": "ylSl6qgtp1ck"
      }
    },
    {
      "cell_type": "markdown",
      "source": [
        "In this case, 'Installs' and 'Reviews'are two numerical values so, this plot helps identify patterns, trends, and potential correlations between the variables."
      ],
      "metadata": {
        "id": "m2xqNkiQp1ck"
      }
    },
    {
      "cell_type": "markdown",
      "source": [
        "##### 2. What is/are the insight(s) found from the chart?"
      ],
      "metadata": {
        "id": "ZWILFDl5p1ck"
      }
    },
    {
      "cell_type": "markdown",
      "source": [
        "The scatter plot shows a positive correlation between installs and reviews. Apps with higher installs tend to have more reviews, indicating that popular apps generally receive more user feedback."
      ],
      "metadata": {
        "id": "x-lUsV2mp1ck"
      }
    },
    {
      "cell_type": "markdown",
      "source": [
        "##### 3. Will the gained insights help creating a positive business impact?\n",
        "Are there any insights that lead to negative growth? Justify with specific reason."
      ],
      "metadata": {
        "id": "M7G43BXep1ck"
      }
    },
    {
      "cell_type": "markdown",
      "source": [
        "Yes, this insight can help create a positive business impact. By focusing on increasing app installs, developers can expect a corresponding increase in user reviews, which can further enhance the app's visibility and credibility. There are no insights that directly lead to negative growth, but neglecting user reviews despite high installs could potentially harm the app's reputation."
      ],
      "metadata": {
        "id": "5wwDJXsLp1cl"
      }
    },
    {
      "cell_type": "markdown",
      "source": [
        "#### Trends over time"
      ],
      "metadata": {
        "id": "Ag9LCva-p1cl"
      }
    },
    {
      "cell_type": "code",
      "source": [
        "# Extract year and month as separate columns\n",
        "play_store_data['Year'] = play_store_data['Last Updated'].dt.year\n",
        "play_store_data['Month'] = play_store_data['Last Updated'].dt.month\n",
        "\n",
        "# Group by Year and Month to get average rating\n",
        "monthly_ratings = play_store_data.groupby(['Year', 'Month'])['Rating'].mean().reset_index()\n",
        "\n",
        "# Create a new datetime column for plotting\n",
        "monthly_ratings['Date'] = pd.to_datetime(monthly_ratings[['Year', 'Month']].assign(DAY=1))\n",
        "\n",
        "# Line Plot\n",
        "plt.figure(figsize=(10, 5))\n",
        "sns.lineplot(x='Date', y='Rating', data=monthly_ratings, color='#3CB371')\n",
        "plt.title('Average App Rating Over Time')\n",
        "plt.xlabel('Month')\n",
        "plt.ylabel('Average Rating')\n",
        "plt.show()"
      ],
      "metadata": {
        "id": "EUfxeq9-p1cl"
      },
      "execution_count": null,
      "outputs": []
    },
    {
      "cell_type": "markdown",
      "source": [
        "##### 1. Why did you pick the specific chart?"
      ],
      "metadata": {
        "id": "E6MkPsBcp1cl"
      }
    },
    {
      "cell_type": "markdown",
      "source": [
        "A line chart effectively shows how average app ratings change over time, making trends and anomalies easy to spot."
      ],
      "metadata": {
        "id": "V22bRsFWp1cl"
      }
    },
    {
      "cell_type": "markdown",
      "source": [
        "##### 2. What is/are the insight(s) found from the chart?"
      ],
      "metadata": {
        "id": "2cELzS2fp1cl"
      }
    },
    {
      "cell_type": "markdown",
      "source": [
        "* Ratings were stable from 2010 to 2011, then saw a sharp drop in 2012 (below 2).\n",
        "\n",
        "* Quick recovery followed, but fluctuations continued till 2014.\n",
        "\n",
        "* From 2015–2018, ratings were more stable around 3.5 to 4, with a rise at the end."
      ],
      "metadata": {
        "id": "ozQPc2_Ip1cl"
      }
    },
    {
      "cell_type": "markdown",
      "source": [
        "##### 3. Will the gained insights help creating a positive business impact?\n",
        "Are there any insights that lead to negative growth? Justify with specific reason."
      ],
      "metadata": {
        "id": "3MPXvC8up1cl"
      }
    },
    {
      "cell_type": "markdown",
      "source": [
        "* Positive Business Impact: The upward trend post-2012 shows improved app quality and user satisfaction—good for brand trust.\n",
        "* Negative Growth Insight: The 2012 dip may indicate poor app releases or major bugs, causing temporary negative growth. Understanding this can help avoid future rating crashes."
      ],
      "metadata": {
        "id": "GL8l1tdLp1cl"
      }
    },
    {
      "cell_type": "markdown",
      "source": [
        "#### Visualizations of the most Reviewed apps and their Ratings"
      ],
      "metadata": {
        "id": "tlUnJLEvm2iU"
      }
    },
    {
      "cell_type": "code",
      "source": [
        "# Bar chart with color coded Ratings\n",
        "most_reviewed_apps = play_store_data.sort_values(by='Reviews', ascending=False).head(20)\n",
        "plt.figure(figsize=(12, 6))\n",
        "sns.barplot(x='App', y='Reviews', data=most_reviewed_apps, hue='Rating')\n",
        "plt.xticks(rotation = 90)\n",
        "plt.title('Most Reviewed Apps and Their Ratings')\n",
        "plt.xlabel('App')\n",
        "plt.ylabel('Number of Reviews')\n",
        "plt.yscale('log')\n",
        "plt.legend(title='Rating')\n",
        "plt.tight_layout()\n",
        "plt.show()"
      ],
      "metadata": {
        "id": "cyYbcHJtm_nf"
      },
      "execution_count": null,
      "outputs": []
    },
    {
      "cell_type": "markdown",
      "source": [
        "##### 1. Why did you pick the specific chart?"
      ],
      "metadata": {
        "id": "G2EH98xLnDVF"
      }
    },
    {
      "cell_type": "markdown",
      "source": [
        "A bar chart with color encoding shows both review volume and average rating together, making it easy to compare top apps."
      ],
      "metadata": {
        "id": "GnPYoMadLETI"
      }
    },
    {
      "cell_type": "markdown",
      "source": [
        "##### 2. What is/are the insight(s) found from the chart?"
      ],
      "metadata": {
        "id": "sq1sxN2tLz9Y"
      }
    },
    {
      "cell_type": "markdown",
      "source": [
        "* Facebook has the highest number of reviews, but lower rating (≈4.05).\n",
        "\n",
        "* Apps like Clean Master and Clash of Clans have fewer reviews but higher ratings (≈4.65).\n",
        "\n",
        "* YouTube, despite its popularity, has lowest review count and rating among top apps."
      ],
      "metadata": {
        "id": "JKdktL9TL9OH"
      }
    },
    {
      "cell_type": "markdown",
      "source": [
        "##### 3. Will the gained insights help creating a positive business impact?\n",
        "Are there any insights that lead to negative growth? Justify with specific reason."
      ],
      "metadata": {
        "id": "3F5B84JLMhSZ"
      }
    },
    {
      "cell_type": "markdown",
      "source": [
        "* Positive Business Impact: High-rated apps with fewer reviews (e.g., Clean Master) show strong user satisfaction, good for long-term growth.\n",
        "\n",
        "* Negative Growth: Apps like Facebook with many users but lower ratings may face reputation issues, leading to user churn if not improved."
      ],
      "metadata": {
        "id": "ig33XR77Mnl9"
      }
    },
    {
      "cell_type": "markdown",
      "source": [
        "#### Visualizations of the most Installed apps and their Ratings"
      ],
      "metadata": {
        "id": "KtNGGk3xWc9k"
      }
    },
    {
      "cell_type": "code",
      "source": [
        "# Bar chart to visualize most Installed or popular apps with their Ratings\n",
        "most_installed_apps = play_store_data.sort_values(by='Installs', ascending=False).head(10)\n",
        "plt.figure(figsize=(12, 6))\n",
        "sns.barplot(x='App', y='Installs', data=most_installed_apps, hue='Rating')\n",
        "plt.xticks(rotation = 90)\n",
        "plt.title('Most Installed Apps and Their Ratings')\n",
        "plt.xlabel('App')\n",
        "plt.ylabel('Number of Installs')\n",
        "plt.yscale('log')\n",
        "plt.legend(title='Rating')\n",
        "plt.tight_layout()\n",
        "plt.show()"
      ],
      "metadata": {
        "id": "h_tNqt4AWu-I"
      },
      "execution_count": null,
      "outputs": []
    },
    {
      "cell_type": "markdown",
      "source": [
        "##### 1. Why did you pick the specific chart?"
      ],
      "metadata": {
        "id": "3lO53pXCSElb"
      }
    },
    {
      "cell_type": "markdown",
      "source": [
        "Bar chart clearly shows both app popularity (install count) and user satisfaction (ratings) in one view, making it easy to analyze and compare."
      ],
      "metadata": {
        "id": "1VsjXTwpTAXD"
      }
    },
    {
      "cell_type": "markdown",
      "source": [
        "##### 2. What is/are the insight(s) found from the chart?"
      ],
      "metadata": {
        "id": "ufYdUUHwTD22"
      }
    },
    {
      "cell_type": "markdown",
      "source": [
        "All apps have high installs, but ratings vary. Apps like Subway Surfers and Google Photos have high ratings, while Google News and Hangouts have low ratings, indicating possible user dissatisfaction."
      ],
      "metadata": {
        "id": "rjQpfE2BTIIp"
      }
    },
    {
      "cell_type": "markdown",
      "source": [
        "##### 3. Will the gained insights help creating a positive business impact?\n",
        "Are there any insights that lead to negative growth? Justify with specific reason."
      ],
      "metadata": {
        "id": "nzCUBM6IVsEo"
      }
    },
    {
      "cell_type": "markdown",
      "source": [
        "* Positive Business Impact: The insights help identify which apps are doing well and which need improvement, guiding better product decisions and enhancing user experience.\n",
        "\n",
        "* Negative Growth: Lo+\n",
        "-rated apps like Google News and Hangouts may face user drop-off or poor engagement if issues aren’t addressed, which can harm the brand."
      ],
      "metadata": {
        "id": "2grSVgETVxl3"
      }
    },
    {
      "cell_type": "markdown",
      "source": [
        "#### Rating vs Days Since Last Update"
      ],
      "metadata": {
        "id": "E6HGKEEHmZen"
      }
    },
    {
      "cell_type": "code",
      "source": [
        "# Calculate days since last update\n",
        "today = pd.to_datetime('today')\n",
        "play_store_data['Days Since Update'] = (today - play_store_data['Last Updated']).dt.days\n",
        "\n",
        "# Scatter plot: Days since update vs Rating\n",
        "plt.figure(figsize=(8,4))\n",
        "plt.scatter(play_store_data['Days Since Update'], play_store_data['Rating'], alpha=0.4, color='#BC8F8F')\n",
        "plt.xlabel('Days Since Last Update')\n",
        "plt.ylabel('App Rating')\n",
        "plt.title('App Rating vs Days Since Last Update')\n",
        "plt.grid(True, linestyle='--', alpha=0.5)\n",
        "plt.tight_layout()\n",
        "plt.show()"
      ],
      "metadata": {
        "id": "mNo0arjPk-Pz"
      },
      "execution_count": null,
      "outputs": []
    },
    {
      "cell_type": "markdown",
      "source": [
        "##### 1. Why did you pick the specific chart?"
      ],
      "metadata": {
        "id": "qG2glZBprCdv"
      }
    },
    {
      "cell_type": "markdown",
      "source": [
        "A scatter plot is ideal for showing the relationship between update frequency and user ratings. It clearly visualizes how delays in app updates may correlate with lower ratings.\n",
        "\n"
      ],
      "metadata": {
        "id": "Ij60tFZ2rLIV"
      }
    },
    {
      "cell_type": "markdown",
      "source": [
        "##### 2. What is/are the insight(s) found from the chart?"
      ],
      "metadata": {
        "id": "1wDogGoerMf0"
      }
    },
    {
      "cell_type": "markdown",
      "source": [
        "* Newer apps (lower days) tend to have a wider range of high ratings (3.5–5.0).\n",
        "\n",
        "* As apps get older (higher days) without updates, ratings drop, many clustering around 1.0–3.0.\n",
        "\n",
        "* Apps that haven’t been updated in a long time often suffer from low user ratings."
      ],
      "metadata": {
        "id": "RjaaoCwVrT7p"
      }
    },
    {
      "cell_type": "markdown",
      "source": [
        "##### 3. Will the gained insights help creating a positive business impact?\n",
        "Are there any insights that lead to negative growth? Justify with specific reason."
      ],
      "metadata": {
        "id": "Cp3Ix9YHrUtL"
      }
    },
    {
      "cell_type": "markdown",
      "source": [
        "* Positive Impact: It highlights the importance of timely updates. Developers can use this to schedule regular updates, which may lead to higher user satisfaction and better app store performance.\n",
        "* Negative Growth: The chart shows that apps not updated for long periods tend to have lower ratings. This indicates neglect or outdated features, leading to user dissatisfaction and possible uninstalls — directly harming growth."
      ],
      "metadata": {
        "id": "WOWB7LpVraB5"
      }
    },
    {
      "cell_type": "markdown",
      "source": [
        "#### Correlation Matrix Heatmap"
      ],
      "metadata": {
        "id": "YJ55k-q6phqO"
      }
    },
    {
      "cell_type": "code",
      "source": [
        "numerical_cols = ['Rating', 'Reviews', 'Installs', 'Price', 'Size', 'Sentiment_Polarity', 'Sentiment_Subjectivity']\n",
        "correlation_matrix = data[numerical_cols].corr()\n",
        "\n",
        "plt.figure(figsize=(12, 6))\n",
        "sns.heatmap(correlation_matrix, annot=True, cmap='Greens')\n",
        "plt.title('Correlation Matrix of Numerical Features')\n",
        "plt.show()"
      ],
      "metadata": {
        "id": "B2aS4O1ophqO"
      },
      "execution_count": null,
      "outputs": []
    },
    {
      "cell_type": "markdown",
      "source": [
        "##### 1. Why did you pick the specific chart?"
      ],
      "metadata": {
        "id": "gCFgpxoyphqP"
      }
    },
    {
      "cell_type": "markdown",
      "source": [
        "A heatmap is a good way to visualize the correlation between multiple numerical variables. It shows the strength and direction of the relationships, helping us identify potential dependencies and patterns in the data."
      ],
      "metadata": {
        "id": "TVxDimi2phqP"
      }
    },
    {
      "cell_type": "markdown",
      "source": [
        "##### 2. What is/are the insight(s) found from the chart?"
      ],
      "metadata": {
        "id": "OVtJsKN_phqQ"
      }
    },
    {
      "cell_type": "markdown",
      "source": [
        "* There is a strong positive correlation between 'Reviews' and 'Installs', indicating that more popular apps tend to have more reviews.\n",
        "* Sentiment Polarity & Subjectivity also correlate moderately.\n",
        "* Price has almost no correlation with any feature.\n",
        "* Ratings have weak or no strong correlation with other variables.\n",
        "* Larger apps tend to get slightly more reviews, possibly because they offer more features or are more engaging. However, the connection isn’t strong."
      ],
      "metadata": {
        "id": "ngGi97qjphqQ"
      }
    },
    {
      "cell_type": "markdown",
      "source": [
        "##### 3. Will the gained insights help creating a positive business impact?\n",
        "Are there any insights that lead to negative growth? Justify with specific reason."
      ],
      "metadata": {
        "id": "lssrdh5qphqQ"
      }
    },
    {
      "cell_type": "markdown",
      "source": [
        "* Positive Business Impact: Developers can use this to understand which factors are most strongly correlated with app success and prioritize their efforts accordingly. For example, focusing on getting more reviews can boost installs.\n",
        "* Negative Growth: Relying on price to influence other metrics won't help as price doesn't impact much. Also, Bigger size alone doesn’t guarantee more reviews as content matters more."
      ],
      "metadata": {
        "id": "tBpY5ekJphqQ"
      }
    },
    {
      "cell_type": "markdown",
      "source": [
        "#### Pair Plot"
      ],
      "metadata": {
        "id": "q29F0dvdveiT"
      }
    },
    {
      "cell_type": "code",
      "source": [
        "# Pair Plot visualization code\n",
        "sns.pairplot(data)\n",
        "plt.show()"
      ],
      "metadata": {
        "id": "o58-TEIhveiU"
      },
      "execution_count": null,
      "outputs": []
    },
    {
      "cell_type": "markdown",
      "source": [
        "##### 1. Why did you pick the specific chart?"
      ],
      "metadata": {
        "id": "EXh0U9oCveiU"
      }
    },
    {
      "cell_type": "markdown",
      "source": [
        "Visualizes relationships between multiple variables through scatter plots and histograms. Useful for identifying correlations, distributions, and outliers across all variables."
      ],
      "metadata": {
        "id": "eMmPjTByveiU"
      }
    },
    {
      "cell_type": "markdown",
      "source": [
        "##### 2. What is/are the insight(s) found from the chart?"
      ],
      "metadata": {
        "id": "22aHeOlLveiV"
      }
    },
    {
      "cell_type": "markdown",
      "source": [
        "* The diagonal histograms show the distribution of each numerical variable (Rating, Reviews, Size, Installs, Price, Sentiment_Polarity, Sentiment_Subjectivity).\n",
        "* The scatter plots off the diagonal visualize the relationships between pairs of numerical variables.\n",
        "* We can observe the spread and potential outliers in each numerical column.\n",
        "Some plots show apparent clusters or patterns, while others appear more scattered, suggesting varying degrees of correlation between the variables."
      ],
      "metadata": {
        "id": "SyIrPTJ3J_U-"
      }
    },
    {
      "cell_type": "markdown",
      "source": [
        "##### 3. Will the gained insights help creating a positive business impact?\n",
        "Are there any insights that lead to negative growth? Justify with specific reason."
      ],
      "metadata": {
        "id": "jGBUJWl6Qpe9"
      }
    },
    {
      "cell_type": "markdown",
      "source": [
        "* Positive Impact: Identifying correlations between variables can inform decision-making. This insight could guide app development strategies.\n",
        "* Negative Growth: If the pair plot reveals negative correlations where positive ones would be expected, it highlights areas where the app's performance might be negatively impacted."
      ],
      "metadata": {
        "id": "tlHHxaM7QwnQ"
      }
    },
    {
      "cell_type": "markdown",
      "source": [
        "#### Sentiment Analysis"
      ],
      "metadata": {
        "id": "QcP0AQ-uKB-B"
      }
    },
    {
      "cell_type": "code",
      "source": [
        "plt.figure(figsize=(8, 5))\n",
        "sns.scatterplot(x='Sentiment_Polarity', y='Sentiment_Subjectivity', hue='Sentiment', data=user_reviews_data)\n",
        "plt.title('Sentiment Polarity vs. Subjectivity')\n",
        "plt.show()"
      ],
      "metadata": {
        "id": "-Dfw-CkkY6va"
      },
      "execution_count": null,
      "outputs": []
    },
    {
      "cell_type": "markdown",
      "source": [
        "##### 1. Why did you pick the specific chart?"
      ],
      "metadata": {
        "id": "uPQ8RGwHveiV"
      }
    },
    {
      "cell_type": "markdown",
      "source": [
        "This would help to observe how different sentiment categories (positive, negative, neutral) are distributed across the polarity and subjectivity ranges."
      ],
      "metadata": {
        "id": "RZB5T7LPM7gc"
      }
    },
    {
      "cell_type": "markdown",
      "source": [
        "##### 2. What is/are the insight(s) found from the chart?"
      ],
      "metadata": {
        "id": "Ww51guWtM9M2"
      }
    },
    {
      "cell_type": "markdown",
      "source": [
        "* Positive reviews tend to have higher sentiment polarity (closer to 1) and a wider range of subjectivity.\n",
        "* Negative reviews tend to have lower sentiment polarity (closer to -1) and also show a range of subjectivity.\n",
        "* Neutral reviews are clustered around a sentiment polarity of 0 and generally lower subjectivity."
      ],
      "metadata": {
        "id": "46aYFvGKNC_A"
      }
    },
    {
      "cell_type": "markdown",
      "source": [
        "##### 3. Will the gained insights help creating a positive business impact?\n",
        "Are there any insights that lead to negative growth? Justify with specific reason."
      ],
      "metadata": {
        "id": "lh9kuJ6HNDqa"
      }
    },
    {
      "cell_type": "markdown",
      "source": [
        "* Positive Impact: Understanding the distribution of sentiments helps identify areas for improvement. For example, a high number of negative reviews clustered in a certain area of the plot might indicate specific issues that need addressing, leading to positive impact if fixed.\n",
        "* Negative Growth: A large cluster of negative sentiment reviews with low subjectivity could indicate specific, concrete problems that users are experiencing. Ignoring these could lead to negative growth as more users encounter the same issues and leave negative feedback."
      ],
      "metadata": {
        "id": "OiM0WWEsNIQG"
      }
    },
    {
      "cell_type": "markdown",
      "source": [
        "#### Visualize Sentiment Distribution"
      ],
      "metadata": {
        "id": "vSRWGVDtVpP3"
      }
    },
    {
      "cell_type": "code",
      "source": [
        "plt.figure(figsize=(6, 6))\n",
        "sentiment_counts = user_reviews_data['Sentiment'].value_counts()\n",
        "plt.pie(sentiment_counts, labels=sentiment_counts.index, autopct='%1.2f%%', colors=['lightgreen', 'lightcoral', 'lightblue'], textprops={'fontsize': 12})\n",
        "plt.title('Distribution of Sentiments')\n",
        "plt.axis('equal')\n",
        "plt.show()"
      ],
      "metadata": {
        "id": "hP-3v-vDVrF8"
      },
      "execution_count": null,
      "outputs": []
    },
    {
      "cell_type": "markdown",
      "source": [
        "##### 1. Why did you pick the specific chart?"
      ],
      "metadata": {
        "id": "Qv5o0Ky_Y2CJ"
      }
    },
    {
      "cell_type": "markdown",
      "source": [
        "A pie chart is suitable for displaying the proportion of each sentiment category (positive, negative, neutral) relative to the whole."
      ],
      "metadata": {
        "id": "NkONX99cY1yx"
      }
    },
    {
      "cell_type": "markdown",
      "source": [
        "##### 2. What is/are the insight(s) found from the chart?"
      ],
      "metadata": {
        "id": "m_IQovHRZaoX"
      }
    },
    {
      "cell_type": "markdown",
      "source": [
        "* 64.04% of sentiments are positive, 21.29% are negative and 14.67% are neutral.\n",
        "\n",
        "* Most users are happy, with a small portion expressing dissatisfaction."
      ],
      "metadata": {
        "id": "rPXuUNIhbMUB"
      }
    },
    {
      "cell_type": "markdown",
      "source": [
        "##### 3. Will the gained insights help creating a positive business impact?\n",
        "Are there any insights that lead to negative growth? Justify with specific reason."
      ],
      "metadata": {
        "id": "_oujVKy5bNeD"
      }
    },
    {
      "cell_type": "markdown",
      "source": [
        "* Positive Impact: High positive sentiment shows customer satisfaction. Can be used in marketing to build trust and brand loyalty.\n",
        "* Negative Growth: 21.29% negative feedback is a concern. Ignoring it can lead to customer churn and bad reviews."
      ],
      "metadata": {
        "id": "iYNxhciUeD3p"
      }
    },
    {
      "cell_type": "markdown",
      "source": [
        "#### Distribution of Content Rating wrt App Rating"
      ],
      "metadata": {
        "id": "RuBF8fhRtaNj"
      }
    },
    {
      "cell_type": "code",
      "source": [
        "plt.figure(figsize=(10, 7))\n",
        "sns.violinplot(x='Content Rating', y='Rating', data=play_store_data, hue='Content Rating', palette='PuBu', legend=False)\n",
        "plt.title('Distribution of App Ratings by Content Rating')\n",
        "plt.xlabel('Content Rating')\n",
        "plt.ylabel('App Rating')\n",
        "plt.xticks(rotation=45)\n",
        "plt.tight_layout()\n",
        "plt.show()"
      ],
      "metadata": {
        "id": "yAqOfED2tTR7"
      },
      "execution_count": null,
      "outputs": []
    },
    {
      "cell_type": "markdown",
      "source": [
        "##### 1. Why did you pick the specific chart?"
      ],
      "metadata": {
        "id": "eVKhxZ9WvOd9"
      }
    },
    {
      "cell_type": "markdown",
      "source": [
        "Violin chart shows distribution + density of app ratings, highlights variation within each content rating. Better than bar/box plots for spotting outliers and spread."
      ],
      "metadata": {
        "id": "ROzoAO3mvTFf"
      }
    },
    {
      "cell_type": "markdown",
      "source": [
        "##### 2. What is/are the insight(s) found from the chart?"
      ],
      "metadata": {
        "id": "lql1DutsuzIB"
      }
    },
    {
      "cell_type": "markdown",
      "source": [
        "* Most content ratings have similar high app ratings (around 4+).\n",
        "\n",
        "* \"Adults only 18+\" apps are few but rated high.\n",
        "\n",
        "* Unrated apps show wide variation and lower average ratings."
      ],
      "metadata": {
        "id": "EPtLR2uJuzAT"
      }
    },
    {
      "cell_type": "markdown",
      "source": [
        "##### 3. Will the gained insights help creating a positive business impact?\n",
        "Are there any insights that lead to negative growth? Justify with specific reason."
      ],
      "metadata": {
        "id": "xUvo9hleuy2B"
      }
    },
    {
      "cell_type": "markdown",
      "source": [
        "* Positive Impact: Targeting rated categories like “Everyone” or “Teen” is safer and gets better ratings. High ratings in “Adults only 18+” show niche potential.\n",
        "* Negative Growth: “Unrated” apps have inconsistent and low ratings. Lack of trust and unclear content can push users away. Rating your app properly builds credibility."
      ],
      "metadata": {
        "id": "UioLyJvmvr-x"
      }
    },
    {
      "cell_type": "markdown",
      "source": [
        "## **5. Solution to Business Objective**"
      ],
      "metadata": {
        "id": "JcMwzZxoAimU"
      }
    },
    {
      "cell_type": "markdown",
      "source": [
        "#### What do you suggest the client to achieve Business Objective ?\n",
        "Explain Briefly."
      ],
      "metadata": {
        "id": "8G2x9gOozGDZ"
      }
    },
    {
      "cell_type": "markdown",
      "source": [
        "* **Focus on Free Apps with Monetization:**\n",
        "Since over 90% of apps are free and dominate installs, developing free apps with ads or in-app purchases can maximize reach and user base growth.\n",
        "\n",
        "* **Prioritize Regular Updates:**\n",
        "Data shows apps with frequent updates maintain higher ratings. Encourage continuous app improvement and timely bug fixes to retain user trust and boost ratings.\n",
        "\n",
        "* **Optimize App Size:**\n",
        "Smaller apps tend to have better ratings and downloads. Keep the app lightweight to enhance user experience and attract more installs, especially in categories like Tools and Education.\n",
        "\n",
        "* **Leverage Positive Sentiment and Reviews:**\n",
        "Positive sentiment correlates with higher ratings. Use sentiment analysis to monitor user feedback, quickly address negative sentiments, and highlight strengths in marketing.\n",
        "\n",
        "* **Target High-Install Categories (Family, Game, Tools):**\n",
        "These categories have the highest installs and revenue potential. Focus development and marketing efforts here to tap into large, engaged user bases.\n",
        "\n",
        "* **Balance Paid App Pricing and Quality:**\n",
        "Although paid apps are fewer, those with clear value and moderate pricing perform well. Use pricing strategies aligned with user expectations and app quality.\n",
        "\n",
        "* **Encourage User Reviews to Boost Visibility:**\n",
        "Higher installs correlate with more reviews. Incentivize users to leave feedback, improving app visibility and social proof.\n",
        "\n",
        "* **Monitor Content Ratings Closely:**\n",
        "“Everyone” content rating dominates with high installs and ratings. Ensure apps target broad audiences and comply with content guidelines to maximize downloads."
      ],
      "metadata": {
        "id": "pASKb0qOza21"
      }
    },
    {
      "cell_type": "markdown",
      "source": [
        "# **Conclusion**"
      ],
      "metadata": {
        "id": "gCX9965dhzqZ"
      }
    },
    {
      "cell_type": "markdown",
      "source": [
        "Exploring the Google Play Store data was like uncovering a treasure map to app success! 🗺️ Free apps rule the market 🌍, showing that easy access is the key to winning users’ hearts ❤️ and downloads 📲. But it’s not just about being free—quality matters! Apps that stay updated 🔄, stay light ⚖️, and listen to user feedback 💬 shine the brightest stars 🌟 in this crowded sky.\n",
        "\n",
        "Sentiment analysis gave us the real pulse of users—mostly happy 😊, guiding developers on what works and what needs fixing 🔧. Popular categories like Family 👨‍👩‍👧‍👦, Games 🎮, and Tools 🛠️ offer huge opportunities, but competition is fierce ⚔️.\n",
        "\n",
        "Paid apps may be the underdogs 🐾, but those who bring unique value 💎 can still rake in big rewards 💰.\n",
        "\n",
        "For businesses aiming to conquer the Play Store, the formula is clear: focus on user experience 🎯, keep improving constantly 🔄, and let data be your compass 🧭. Follow this path, and your app could be the next big success story! 🚀✨"
      ],
      "metadata": {
        "id": "Fjb1IsQkh3yE"
      }
    }
  ]
}